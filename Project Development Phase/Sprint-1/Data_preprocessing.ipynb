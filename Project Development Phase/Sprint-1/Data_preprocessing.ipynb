{
  "nbformat": 4,
  "nbformat_minor": 0,
  "metadata": {
    "colab": {
      "provenance": []
    },
    "kernelspec": {
      "name": "python3",
      "display_name": "Python 3"
    },
    "language_info": {
      "name": "python"
    }
  },
  "cells": [
    {
      "cell_type": "markdown",
      "source": [
        "# IMPORTING THE LIBRARIES"
      ],
      "metadata": {
        "id": "-2O55f49470A"
      }
    },
    {
      "cell_type": "code",
      "execution_count": null,
      "metadata": {
        "id": "l-x14QElIY0W"
      },
      "outputs": [],
      "source": [
        "import numpy as np\n",
        "import pandas as pd\n",
        "import seaborn as sns\n",
        "import matplotlib.pyplot as plt\n",
        "\n",
        "import warnings\n",
        "warnings.filterwarnings(\"ignore\")"
      ]
    },
    {
      "cell_type": "markdown",
      "source": [
        "# READING THE DATASET"
      ],
      "metadata": {
        "id": "ywrOLTV25MOW"
      }
    },
    {
      "cell_type": "code",
      "source": [
        "data=pd.read_csv(\"waterdatax.csv\")"
      ],
      "metadata": {
        "id": "Uchlnl1RIalZ"
      },
      "execution_count": null,
      "outputs": []
    },
    {
      "cell_type": "markdown",
      "source": [
        "# ANALYSE THE DATA"
      ],
      "metadata": {
        "id": "tRjpaQsQ5QIe"
      }
    },
    {
      "cell_type": "code",
      "source": [
        "data.head()"
      ],
      "metadata": {
        "id": "bHiT8ddFIon3",
        "colab": {
          "base_uri": "https://localhost:8080/",
          "height": 424
        },
        "outputId": "1e843a26-a432-4a55-c7d3-afd51b6e6866"
      },
      "execution_count": null,
      "outputs": [
        {
          "output_type": "execute_result",
          "data": {
            "text/plain": [
              "  STATION CODE                                          LOCATIONS  \\\n",
              "0         1393               DAMANGANGA AT D/S OF MADHUBAN, DAMAN   \n",
              "1         1399  ZUARI AT D/S OF PT. WHERE KUMBARJRIA CANAL JOI...   \n",
              "2         1475                                ZUARI AT PANCHAWADI   \n",
              "3         3181                        RIVER ZUARI AT BORIM BRIDGE   \n",
              "4         3182                       RIVER ZUARI AT MARCAIM JETTY   \n",
              "\n",
              "         STATE  Temp D.O. (mg/l)   PH CONDUCTIVITY (µmhos/cm) B.O.D. (mg/l)  \\\n",
              "0  DAMAN & DIU  30.6         6.7  7.5                     203           NAN   \n",
              "1          GOA  29.8         5.7  7.2                     189             2   \n",
              "2          GOA  29.5         6.3  6.9                     179           1.7   \n",
              "3          GOA  29.7         5.8  6.9                      64           3.8   \n",
              "4          GOA  29.5         5.8  7.3                      83           1.9   \n",
              "\n",
              "  NITRATENAN N+ NITRITENANN (mg/l) FECAL COLIFORM (MPN/100ml)  \\\n",
              "0                              0.1                         11   \n",
              "1                              0.2                       4953   \n",
              "2                              0.1                       3243   \n",
              "3                              0.5                       5382   \n",
              "4                              0.4                       3428   \n",
              "\n",
              "  TOTAL COLIFORM (MPN/100ml)Mean  year  \n",
              "0                             27  2014  \n",
              "1                           8391  2014  \n",
              "2                           5330  2014  \n",
              "3                           8443  2014  \n",
              "4                           5500  2014  "
            ],
            "text/html": [
              "\n",
              "  <div id=\"df-3fca359f-d41f-425d-9009-8ebc4c060283\">\n",
              "    <div class=\"colab-df-container\">\n",
              "      <div>\n",
              "<style scoped>\n",
              "    .dataframe tbody tr th:only-of-type {\n",
              "        vertical-align: middle;\n",
              "    }\n",
              "\n",
              "    .dataframe tbody tr th {\n",
              "        vertical-align: top;\n",
              "    }\n",
              "\n",
              "    .dataframe thead th {\n",
              "        text-align: right;\n",
              "    }\n",
              "</style>\n",
              "<table border=\"1\" class=\"dataframe\">\n",
              "  <thead>\n",
              "    <tr style=\"text-align: right;\">\n",
              "      <th></th>\n",
              "      <th>STATION CODE</th>\n",
              "      <th>LOCATIONS</th>\n",
              "      <th>STATE</th>\n",
              "      <th>Temp</th>\n",
              "      <th>D.O. (mg/l)</th>\n",
              "      <th>PH</th>\n",
              "      <th>CONDUCTIVITY (µmhos/cm)</th>\n",
              "      <th>B.O.D. (mg/l)</th>\n",
              "      <th>NITRATENAN N+ NITRITENANN (mg/l)</th>\n",
              "      <th>FECAL COLIFORM (MPN/100ml)</th>\n",
              "      <th>TOTAL COLIFORM (MPN/100ml)Mean</th>\n",
              "      <th>year</th>\n",
              "    </tr>\n",
              "  </thead>\n",
              "  <tbody>\n",
              "    <tr>\n",
              "      <th>0</th>\n",
              "      <td>1393</td>\n",
              "      <td>DAMANGANGA AT D/S OF MADHUBAN, DAMAN</td>\n",
              "      <td>DAMAN &amp; DIU</td>\n",
              "      <td>30.6</td>\n",
              "      <td>6.7</td>\n",
              "      <td>7.5</td>\n",
              "      <td>203</td>\n",
              "      <td>NAN</td>\n",
              "      <td>0.1</td>\n",
              "      <td>11</td>\n",
              "      <td>27</td>\n",
              "      <td>2014</td>\n",
              "    </tr>\n",
              "    <tr>\n",
              "      <th>1</th>\n",
              "      <td>1399</td>\n",
              "      <td>ZUARI AT D/S OF PT. WHERE KUMBARJRIA CANAL JOI...</td>\n",
              "      <td>GOA</td>\n",
              "      <td>29.8</td>\n",
              "      <td>5.7</td>\n",
              "      <td>7.2</td>\n",
              "      <td>189</td>\n",
              "      <td>2</td>\n",
              "      <td>0.2</td>\n",
              "      <td>4953</td>\n",
              "      <td>8391</td>\n",
              "      <td>2014</td>\n",
              "    </tr>\n",
              "    <tr>\n",
              "      <th>2</th>\n",
              "      <td>1475</td>\n",
              "      <td>ZUARI AT PANCHAWADI</td>\n",
              "      <td>GOA</td>\n",
              "      <td>29.5</td>\n",
              "      <td>6.3</td>\n",
              "      <td>6.9</td>\n",
              "      <td>179</td>\n",
              "      <td>1.7</td>\n",
              "      <td>0.1</td>\n",
              "      <td>3243</td>\n",
              "      <td>5330</td>\n",
              "      <td>2014</td>\n",
              "    </tr>\n",
              "    <tr>\n",
              "      <th>3</th>\n",
              "      <td>3181</td>\n",
              "      <td>RIVER ZUARI AT BORIM BRIDGE</td>\n",
              "      <td>GOA</td>\n",
              "      <td>29.7</td>\n",
              "      <td>5.8</td>\n",
              "      <td>6.9</td>\n",
              "      <td>64</td>\n",
              "      <td>3.8</td>\n",
              "      <td>0.5</td>\n",
              "      <td>5382</td>\n",
              "      <td>8443</td>\n",
              "      <td>2014</td>\n",
              "    </tr>\n",
              "    <tr>\n",
              "      <th>4</th>\n",
              "      <td>3182</td>\n",
              "      <td>RIVER ZUARI AT MARCAIM JETTY</td>\n",
              "      <td>GOA</td>\n",
              "      <td>29.5</td>\n",
              "      <td>5.8</td>\n",
              "      <td>7.3</td>\n",
              "      <td>83</td>\n",
              "      <td>1.9</td>\n",
              "      <td>0.4</td>\n",
              "      <td>3428</td>\n",
              "      <td>5500</td>\n",
              "      <td>2014</td>\n",
              "    </tr>\n",
              "  </tbody>\n",
              "</table>\n",
              "</div>\n",
              "      <button class=\"colab-df-convert\" onclick=\"convertToInteractive('df-3fca359f-d41f-425d-9009-8ebc4c060283')\"\n",
              "              title=\"Convert this dataframe to an interactive table.\"\n",
              "              style=\"display:none;\">\n",
              "        \n",
              "  <svg xmlns=\"http://www.w3.org/2000/svg\" height=\"24px\"viewBox=\"0 0 24 24\"\n",
              "       width=\"24px\">\n",
              "    <path d=\"M0 0h24v24H0V0z\" fill=\"none\"/>\n",
              "    <path d=\"M18.56 5.44l.94 2.06.94-2.06 2.06-.94-2.06-.94-.94-2.06-.94 2.06-2.06.94zm-11 1L8.5 8.5l.94-2.06 2.06-.94-2.06-.94L8.5 2.5l-.94 2.06-2.06.94zm10 10l.94 2.06.94-2.06 2.06-.94-2.06-.94-.94-2.06-.94 2.06-2.06.94z\"/><path d=\"M17.41 7.96l-1.37-1.37c-.4-.4-.92-.59-1.43-.59-.52 0-1.04.2-1.43.59L10.3 9.45l-7.72 7.72c-.78.78-.78 2.05 0 2.83L4 21.41c.39.39.9.59 1.41.59.51 0 1.02-.2 1.41-.59l7.78-7.78 2.81-2.81c.8-.78.8-2.07 0-2.86zM5.41 20L4 18.59l7.72-7.72 1.47 1.35L5.41 20z\"/>\n",
              "  </svg>\n",
              "      </button>\n",
              "      \n",
              "  <style>\n",
              "    .colab-df-container {\n",
              "      display:flex;\n",
              "      flex-wrap:wrap;\n",
              "      gap: 12px;\n",
              "    }\n",
              "\n",
              "    .colab-df-convert {\n",
              "      background-color: #E8F0FE;\n",
              "      border: none;\n",
              "      border-radius: 50%;\n",
              "      cursor: pointer;\n",
              "      display: none;\n",
              "      fill: #1967D2;\n",
              "      height: 32px;\n",
              "      padding: 0 0 0 0;\n",
              "      width: 32px;\n",
              "    }\n",
              "\n",
              "    .colab-df-convert:hover {\n",
              "      background-color: #E2EBFA;\n",
              "      box-shadow: 0px 1px 2px rgba(60, 64, 67, 0.3), 0px 1px 3px 1px rgba(60, 64, 67, 0.15);\n",
              "      fill: #174EA6;\n",
              "    }\n",
              "\n",
              "    [theme=dark] .colab-df-convert {\n",
              "      background-color: #3B4455;\n",
              "      fill: #D2E3FC;\n",
              "    }\n",
              "\n",
              "    [theme=dark] .colab-df-convert:hover {\n",
              "      background-color: #434B5C;\n",
              "      box-shadow: 0px 1px 3px 1px rgba(0, 0, 0, 0.15);\n",
              "      filter: drop-shadow(0px 1px 2px rgba(0, 0, 0, 0.3));\n",
              "      fill: #FFFFFF;\n",
              "    }\n",
              "  </style>\n",
              "\n",
              "      <script>\n",
              "        const buttonEl =\n",
              "          document.querySelector('#df-3fca359f-d41f-425d-9009-8ebc4c060283 button.colab-df-convert');\n",
              "        buttonEl.style.display =\n",
              "          google.colab.kernel.accessAllowed ? 'block' : 'none';\n",
              "\n",
              "        async function convertToInteractive(key) {\n",
              "          const element = document.querySelector('#df-3fca359f-d41f-425d-9009-8ebc4c060283');\n",
              "          const dataTable =\n",
              "            await google.colab.kernel.invokeFunction('convertToInteractive',\n",
              "                                                     [key], {});\n",
              "          if (!dataTable) return;\n",
              "\n",
              "          const docLinkHtml = 'Like what you see? Visit the ' +\n",
              "            '<a target=\"_blank\" href=https://colab.research.google.com/notebooks/data_table.ipynb>data table notebook</a>'\n",
              "            + ' to learn more about interactive tables.';\n",
              "          element.innerHTML = '';\n",
              "          dataTable['output_type'] = 'display_data';\n",
              "          await google.colab.output.renderOutput(dataTable, element);\n",
              "          const docLink = document.createElement('div');\n",
              "          docLink.innerHTML = docLinkHtml;\n",
              "          element.appendChild(docLink);\n",
              "        }\n",
              "      </script>\n",
              "    </div>\n",
              "  </div>\n",
              "  "
            ]
          },
          "metadata": {},
          "execution_count": 3
        }
      ]
    },
    {
      "cell_type": "code",
      "source": [
        "data.describe()"
      ],
      "metadata": {
        "colab": {
          "base_uri": "https://localhost:8080/",
          "height": 300
        },
        "id": "5phCvK4h4FSd",
        "outputId": "3eb65b1f-a7d2-4ad6-8407-4a1f85c8349c"
      },
      "execution_count": null,
      "outputs": [
        {
          "output_type": "execute_result",
          "data": {
            "text/plain": [
              "              year\n",
              "count  1991.000000\n",
              "mean   2010.038172\n",
              "std       3.057333\n",
              "min    2003.000000\n",
              "25%    2008.000000\n",
              "50%    2011.000000\n",
              "75%    2013.000000\n",
              "max    2014.000000"
            ],
            "text/html": [
              "\n",
              "  <div id=\"df-af92012e-874e-4f4d-b718-232e724fbd35\">\n",
              "    <div class=\"colab-df-container\">\n",
              "      <div>\n",
              "<style scoped>\n",
              "    .dataframe tbody tr th:only-of-type {\n",
              "        vertical-align: middle;\n",
              "    }\n",
              "\n",
              "    .dataframe tbody tr th {\n",
              "        vertical-align: top;\n",
              "    }\n",
              "\n",
              "    .dataframe thead th {\n",
              "        text-align: right;\n",
              "    }\n",
              "</style>\n",
              "<table border=\"1\" class=\"dataframe\">\n",
              "  <thead>\n",
              "    <tr style=\"text-align: right;\">\n",
              "      <th></th>\n",
              "      <th>year</th>\n",
              "    </tr>\n",
              "  </thead>\n",
              "  <tbody>\n",
              "    <tr>\n",
              "      <th>count</th>\n",
              "      <td>1991.000000</td>\n",
              "    </tr>\n",
              "    <tr>\n",
              "      <th>mean</th>\n",
              "      <td>2010.038172</td>\n",
              "    </tr>\n",
              "    <tr>\n",
              "      <th>std</th>\n",
              "      <td>3.057333</td>\n",
              "    </tr>\n",
              "    <tr>\n",
              "      <th>min</th>\n",
              "      <td>2003.000000</td>\n",
              "    </tr>\n",
              "    <tr>\n",
              "      <th>25%</th>\n",
              "      <td>2008.000000</td>\n",
              "    </tr>\n",
              "    <tr>\n",
              "      <th>50%</th>\n",
              "      <td>2011.000000</td>\n",
              "    </tr>\n",
              "    <tr>\n",
              "      <th>75%</th>\n",
              "      <td>2013.000000</td>\n",
              "    </tr>\n",
              "    <tr>\n",
              "      <th>max</th>\n",
              "      <td>2014.000000</td>\n",
              "    </tr>\n",
              "  </tbody>\n",
              "</table>\n",
              "</div>\n",
              "      <button class=\"colab-df-convert\" onclick=\"convertToInteractive('df-af92012e-874e-4f4d-b718-232e724fbd35')\"\n",
              "              title=\"Convert this dataframe to an interactive table.\"\n",
              "              style=\"display:none;\">\n",
              "        \n",
              "  <svg xmlns=\"http://www.w3.org/2000/svg\" height=\"24px\"viewBox=\"0 0 24 24\"\n",
              "       width=\"24px\">\n",
              "    <path d=\"M0 0h24v24H0V0z\" fill=\"none\"/>\n",
              "    <path d=\"M18.56 5.44l.94 2.06.94-2.06 2.06-.94-2.06-.94-.94-2.06-.94 2.06-2.06.94zm-11 1L8.5 8.5l.94-2.06 2.06-.94-2.06-.94L8.5 2.5l-.94 2.06-2.06.94zm10 10l.94 2.06.94-2.06 2.06-.94-2.06-.94-.94-2.06-.94 2.06-2.06.94z\"/><path d=\"M17.41 7.96l-1.37-1.37c-.4-.4-.92-.59-1.43-.59-.52 0-1.04.2-1.43.59L10.3 9.45l-7.72 7.72c-.78.78-.78 2.05 0 2.83L4 21.41c.39.39.9.59 1.41.59.51 0 1.02-.2 1.41-.59l7.78-7.78 2.81-2.81c.8-.78.8-2.07 0-2.86zM5.41 20L4 18.59l7.72-7.72 1.47 1.35L5.41 20z\"/>\n",
              "  </svg>\n",
              "      </button>\n",
              "      \n",
              "  <style>\n",
              "    .colab-df-container {\n",
              "      display:flex;\n",
              "      flex-wrap:wrap;\n",
              "      gap: 12px;\n",
              "    }\n",
              "\n",
              "    .colab-df-convert {\n",
              "      background-color: #E8F0FE;\n",
              "      border: none;\n",
              "      border-radius: 50%;\n",
              "      cursor: pointer;\n",
              "      display: none;\n",
              "      fill: #1967D2;\n",
              "      height: 32px;\n",
              "      padding: 0 0 0 0;\n",
              "      width: 32px;\n",
              "    }\n",
              "\n",
              "    .colab-df-convert:hover {\n",
              "      background-color: #E2EBFA;\n",
              "      box-shadow: 0px 1px 2px rgba(60, 64, 67, 0.3), 0px 1px 3px 1px rgba(60, 64, 67, 0.15);\n",
              "      fill: #174EA6;\n",
              "    }\n",
              "\n",
              "    [theme=dark] .colab-df-convert {\n",
              "      background-color: #3B4455;\n",
              "      fill: #D2E3FC;\n",
              "    }\n",
              "\n",
              "    [theme=dark] .colab-df-convert:hover {\n",
              "      background-color: #434B5C;\n",
              "      box-shadow: 0px 1px 3px 1px rgba(0, 0, 0, 0.15);\n",
              "      filter: drop-shadow(0px 1px 2px rgba(0, 0, 0, 0.3));\n",
              "      fill: #FFFFFF;\n",
              "    }\n",
              "  </style>\n",
              "\n",
              "      <script>\n",
              "        const buttonEl =\n",
              "          document.querySelector('#df-af92012e-874e-4f4d-b718-232e724fbd35 button.colab-df-convert');\n",
              "        buttonEl.style.display =\n",
              "          google.colab.kernel.accessAllowed ? 'block' : 'none';\n",
              "\n",
              "        async function convertToInteractive(key) {\n",
              "          const element = document.querySelector('#df-af92012e-874e-4f4d-b718-232e724fbd35');\n",
              "          const dataTable =\n",
              "            await google.colab.kernel.invokeFunction('convertToInteractive',\n",
              "                                                     [key], {});\n",
              "          if (!dataTable) return;\n",
              "\n",
              "          const docLinkHtml = 'Like what you see? Visit the ' +\n",
              "            '<a target=\"_blank\" href=https://colab.research.google.com/notebooks/data_table.ipynb>data table notebook</a>'\n",
              "            + ' to learn more about interactive tables.';\n",
              "          element.innerHTML = '';\n",
              "          dataTable['output_type'] = 'display_data';\n",
              "          await google.colab.output.renderOutput(dataTable, element);\n",
              "          const docLink = document.createElement('div');\n",
              "          docLink.innerHTML = docLinkHtml;\n",
              "          element.appendChild(docLink);\n",
              "        }\n",
              "      </script>\n",
              "    </div>\n",
              "  </div>\n",
              "  "
            ]
          },
          "metadata": {},
          "execution_count": 4
        }
      ]
    },
    {
      "cell_type": "code",
      "source": [
        "data.info()"
      ],
      "metadata": {
        "colab": {
          "base_uri": "https://localhost:8080/"
        },
        "id": "0FIvHLsA4r5U",
        "outputId": "dd83917a-2bdb-421f-8f0e-468cdcb0be71"
      },
      "execution_count": null,
      "outputs": [
        {
          "output_type": "stream",
          "name": "stdout",
          "text": [
            "<class 'pandas.core.frame.DataFrame'>\n",
            "RangeIndex: 1991 entries, 0 to 1990\n",
            "Data columns (total 12 columns):\n",
            " #   Column                            Non-Null Count  Dtype \n",
            "---  ------                            --------------  ----- \n",
            " 0   STATION CODE                      1991 non-null   object\n",
            " 1   LOCATIONS                         1991 non-null   object\n",
            " 2   STATE                             1991 non-null   object\n",
            " 3   Temp                              1991 non-null   object\n",
            " 4   D.O. (mg/l)                       1991 non-null   object\n",
            " 5   PH                                1991 non-null   object\n",
            " 6   CONDUCTIVITY (µmhos/cm)           1991 non-null   object\n",
            " 7   B.O.D. (mg/l)                     1991 non-null   object\n",
            " 8   NITRATENAN N+ NITRITENANN (mg/l)  1991 non-null   object\n",
            " 9   FECAL COLIFORM (MPN/100ml)        1991 non-null   object\n",
            " 10  TOTAL COLIFORM (MPN/100ml)Mean    1991 non-null   object\n",
            " 11  year                              1991 non-null   int64 \n",
            "dtypes: int64(1), object(11)\n",
            "memory usage: 186.8+ KB\n"
          ]
        }
      ]
    },
    {
      "cell_type": "code",
      "source": [
        "data.shape"
      ],
      "metadata": {
        "colab": {
          "base_uri": "https://localhost:8080/"
        },
        "id": "Ky_NH9El4v0y",
        "outputId": "264015b4-a6a2-4670-d945-c7e2479411ae"
      },
      "execution_count": null,
      "outputs": [
        {
          "output_type": "execute_result",
          "data": {
            "text/plain": [
              "(1991, 12)"
            ]
          },
          "metadata": {},
          "execution_count": 6
        }
      ]
    },
    {
      "cell_type": "markdown",
      "source": [
        "# HANDLING THE MISSING VALUES"
      ],
      "metadata": {
        "id": "-lvCMKYu5Umd"
      }
    },
    {
      "cell_type": "code",
      "source": [
        "data.isnull().sum()"
      ],
      "metadata": {
        "colab": {
          "base_uri": "https://localhost:8080/"
        },
        "id": "BQW2m4UV4y2t",
        "outputId": "2848a6d4-94a5-4a3c-eee8-1e179d231940"
      },
      "execution_count": null,
      "outputs": [
        {
          "output_type": "execute_result",
          "data": {
            "text/plain": [
              "STATION CODE                        0\n",
              "LOCATIONS                           0\n",
              "STATE                               0\n",
              "Temp                                0\n",
              "D.O. (mg/l)                         0\n",
              "PH                                  0\n",
              "CONDUCTIVITY (µmhos/cm)             0\n",
              "B.O.D. (mg/l)                       0\n",
              "NITRATENAN N+ NITRITENANN (mg/l)    0\n",
              "FECAL COLIFORM (MPN/100ml)          0\n",
              "TOTAL COLIFORM (MPN/100ml)Mean      0\n",
              "year                                0\n",
              "dtype: int64"
            ]
          },
          "metadata": {},
          "execution_count": 7
        }
      ]
    },
    {
      "cell_type": "markdown",
      "source": [
        "#HANDLING MISSING VALUES-2"
      ],
      "metadata": {
        "id": "PKNMqH9T6Bbd"
      }
    },
    {
      "cell_type": "code",
      "source": [
        "data.dtypes"
      ],
      "metadata": {
        "colab": {
          "base_uri": "https://localhost:8080/"
        },
        "id": "4kRSbFaa5yHA",
        "outputId": "4b9092b1-7fe7-4b13-e5b7-f6ea94b86867"
      },
      "execution_count": null,
      "outputs": [
        {
          "output_type": "execute_result",
          "data": {
            "text/plain": [
              "STATION CODE                        object\n",
              "LOCATIONS                           object\n",
              "STATE                               object\n",
              "Temp                                object\n",
              "D.O. (mg/l)                         object\n",
              "PH                                  object\n",
              "CONDUCTIVITY (µmhos/cm)             object\n",
              "B.O.D. (mg/l)                       object\n",
              "NITRATENAN N+ NITRITENANN (mg/l)    object\n",
              "FECAL COLIFORM (MPN/100ml)          object\n",
              "TOTAL COLIFORM (MPN/100ml)Mean      object\n",
              "year                                 int64\n",
              "dtype: object"
            ]
          },
          "metadata": {},
          "execution_count": 8
        }
      ]
    },
    {
      "cell_type": "code",
      "source": [
        "data['Temp']=pd.to_numeric(data['Temp'],errors='coerce')\n",
        "data['D.O. (mg/l)']=pd.to_numeric(data['D.O. (mg/l)'],errors='coerce')\n",
        "data['PH']=pd.to_numeric(data['PH'],errors='coerce')\n",
        "data['B.O.D. (mg/l)']=pd.to_numeric(data['B.O.D. (mg/l)'],errors='coerce')\n",
        "data['CONDUCTIVITY (µmhos/cm)']=pd.to_numeric(data['CONDUCTIVITY (µmhos/cm)'],errors='coerce')\n",
        "data['NITRATENAN N+ NITRITENANN (mg/l)']=pd.to_numeric(data['NITRATENAN N+ NITRITENANN (mg/l)'],errors='coerce')\n",
        "data['TOTAL COLIFORM (MPN/100ml)Mean']=pd.to_numeric(data['TOTAL COLIFORM (MPN/100ml)Mean'],errors='coerce')\n",
        "data.dtypes"
      ],
      "metadata": {
        "colab": {
          "base_uri": "https://localhost:8080/"
        },
        "id": "0eDxQDuf6K0c",
        "outputId": "75b714f2-0e5a-4fa1-c286-e647444bf588"
      },
      "execution_count": null,
      "outputs": [
        {
          "output_type": "execute_result",
          "data": {
            "text/plain": [
              "STATION CODE                         object\n",
              "LOCATIONS                            object\n",
              "STATE                                object\n",
              "Temp                                float64\n",
              "D.O. (mg/l)                         float64\n",
              "PH                                  float64\n",
              "CONDUCTIVITY (µmhos/cm)             float64\n",
              "B.O.D. (mg/l)                       float64\n",
              "NITRATENAN N+ NITRITENANN (mg/l)    float64\n",
              "FECAL COLIFORM (MPN/100ml)           object\n",
              "TOTAL COLIFORM (MPN/100ml)Mean      float64\n",
              "year                                  int64\n",
              "dtype: object"
            ]
          },
          "metadata": {},
          "execution_count": 9
        }
      ]
    },
    {
      "cell_type": "code",
      "source": [
        "data.isnull().sum()"
      ],
      "metadata": {
        "colab": {
          "base_uri": "https://localhost:8080/"
        },
        "id": "ETF5gGGZ8FrE",
        "outputId": "edcfe759-f5e5-4dca-f959-0df57743b10e"
      },
      "execution_count": null,
      "outputs": [
        {
          "output_type": "execute_result",
          "data": {
            "text/plain": [
              "STATION CODE                          0\n",
              "LOCATIONS                             0\n",
              "STATE                                 0\n",
              "Temp                                 92\n",
              "D.O. (mg/l)                          31\n",
              "PH                                    8\n",
              "CONDUCTIVITY (µmhos/cm)              25\n",
              "B.O.D. (mg/l)                        43\n",
              "NITRATENAN N+ NITRITENANN (mg/l)    225\n",
              "FECAL COLIFORM (MPN/100ml)            0\n",
              "TOTAL COLIFORM (MPN/100ml)Mean      132\n",
              "year                                  0\n",
              "dtype: int64"
            ]
          },
          "metadata": {},
          "execution_count": 10
        }
      ]
    },
    {
      "cell_type": "markdown",
      "source": [
        "# HANDLING MISSING VALUES-3"
      ],
      "metadata": {
        "id": "LdEkTequ8WJP"
      }
    },
    {
      "cell_type": "code",
      "source": [
        "data['Temp'].fillna(data['Temp'].mean(),inplace=True)\n",
        "data['D.O. (mg/l)'].fillna(data['D.O. (mg/l)'].mean(),inplace=True)\n",
        "data['PH'].fillna(data['PH'].mean(),inplace=True)\n",
        "data['CONDUCTIVITY (µmhos/cm)'].fillna(data['CONDUCTIVITY (µmhos/cm)'].mean(),inplace=True)\n",
        "data['B.O.D. (mg/l)'].fillna(data['B.O.D. (mg/l)'].mean(),inplace=True)\n",
        "data['NITRATENAN N+ NITRITENANN (mg/l)'].fillna(data['NITRATENAN N+ NITRITENANN (mg/l)'].mean(),inplace=True)\n",
        "data['TOTAL COLIFORM (MPN/100ml)Mean'].fillna(data['TOTAL COLIFORM (MPN/100ml)Mean'].mean(),inplace=True)"
      ],
      "metadata": {
        "id": "Vl77x2FM8TGv"
      },
      "execution_count": null,
      "outputs": []
    },
    {
      "cell_type": "code",
      "source": [
        "data.isnull().sum()"
      ],
      "metadata": {
        "colab": {
          "base_uri": "https://localhost:8080/"
        },
        "id": "342JjBk7_Nwd",
        "outputId": "f594d7a2-8863-40df-b592-ea14d0f0fd34"
      },
      "execution_count": null,
      "outputs": [
        {
          "output_type": "execute_result",
          "data": {
            "text/plain": [
              "STATION CODE                        0\n",
              "LOCATIONS                           0\n",
              "STATE                               0\n",
              "Temp                                0\n",
              "D.O. (mg/l)                         0\n",
              "PH                                  0\n",
              "CONDUCTIVITY (µmhos/cm)             0\n",
              "B.O.D. (mg/l)                       0\n",
              "NITRATENAN N+ NITRITENANN (mg/l)    0\n",
              "FECAL COLIFORM (MPN/100ml)          0\n",
              "TOTAL COLIFORM (MPN/100ml)Mean      0\n",
              "year                                0\n",
              "dtype: int64"
            ]
          },
          "metadata": {},
          "execution_count": 12
        }
      ]
    },
    {
      "cell_type": "code",
      "source": [
        "data.drop([\"FECAL COLIFORM (MPN/100ml)\"],axis=1,inplace=True)\n",
        "data"
      ],
      "metadata": {
        "colab": {
          "base_uri": "https://localhost:8080/",
          "height": 728
        },
        "id": "cdbosFOa9rVj",
        "outputId": "39215d95-568e-4ee9-c2b5-47cbbaa4bb62"
      },
      "execution_count": null,
      "outputs": [
        {
          "output_type": "execute_result",
          "data": {
            "text/plain": [
              "     STATION CODE                                          LOCATIONS  \\\n",
              "0            1393               DAMANGANGA AT D/S OF MADHUBAN, DAMAN   \n",
              "1            1399  ZUARI AT D/S OF PT. WHERE KUMBARJRIA CANAL JOI...   \n",
              "2            1475                                ZUARI AT PANCHAWADI   \n",
              "3            3181                        RIVER ZUARI AT BORIM BRIDGE   \n",
              "4            3182                       RIVER ZUARI AT MARCAIM JETTY   \n",
              "...           ...                                                ...   \n",
              "1986         1330            TAMBIRAPARANI AT ARUMUGANERI, TAMILNADU   \n",
              "1987         1450  PALAR AT VANIYAMBADI WATER SUPPLY HEAD WORK, T...   \n",
              "1988         1403                 GUMTI AT U/S SOUTH TRIPURA,TRIPURA   \n",
              "1989         1404                GUMTI AT D/S SOUTH TRIPURA, TRIPURA   \n",
              "1990         1726   CHANDRAPUR, AGARTALA D/S OF HAORA RIVER, TRIPURA   \n",
              "\n",
              "            STATE       Temp  D.O. (mg/l)     PH  CONDUCTIVITY (µmhos/cm)  \\\n",
              "0     DAMAN & DIU  30.600000          6.7    7.5                    203.0   \n",
              "1             GOA  29.800000          5.7    7.2                    189.0   \n",
              "2             GOA  29.500000          6.3    6.9                    179.0   \n",
              "3             GOA  29.700000          5.8    6.9                     64.0   \n",
              "4             GOA  29.500000          5.8    7.3                     83.0   \n",
              "...           ...        ...          ...    ...                      ...   \n",
              "1986          NAN  26.209814          7.9  738.0                      7.2   \n",
              "1987          NAN  29.000000          7.5  585.0                      6.3   \n",
              "1988          NAN  28.000000          7.6   98.0                      6.2   \n",
              "1989          NAN  28.000000          7.7   91.0                      6.5   \n",
              "1990          NAN  29.000000          7.6  110.0                      5.7   \n",
              "\n",
              "      B.O.D. (mg/l)  NITRATENAN N+ NITRITENANN (mg/l)  \\\n",
              "0          6.940049                          0.100000   \n",
              "1          2.000000                          0.200000   \n",
              "2          1.700000                          0.100000   \n",
              "3          3.800000                          0.500000   \n",
              "4          1.900000                          0.400000   \n",
              "...             ...                               ...   \n",
              "1986       2.700000                          0.518000   \n",
              "1987       2.600000                          0.155000   \n",
              "1988       1.200000                          1.623079   \n",
              "1989       1.300000                          1.623079   \n",
              "1990       1.100000                          1.623079   \n",
              "\n",
              "      TOTAL COLIFORM (MPN/100ml)Mean  year  \n",
              "0                               27.0  2014  \n",
              "1                             8391.0  2014  \n",
              "2                             5330.0  2014  \n",
              "3                             8443.0  2014  \n",
              "4                             5500.0  2014  \n",
              "...                              ...   ...  \n",
              "1986                           202.0  2003  \n",
              "1987                           315.0  2003  \n",
              "1988                           570.0  2003  \n",
              "1989                           562.0  2003  \n",
              "1990                           546.0  2003  \n",
              "\n",
              "[1991 rows x 11 columns]"
            ],
            "text/html": [
              "\n",
              "  <div id=\"df-93929fb5-6c89-4a9e-a9f0-22ec3ad4c4ae\">\n",
              "    <div class=\"colab-df-container\">\n",
              "      <div>\n",
              "<style scoped>\n",
              "    .dataframe tbody tr th:only-of-type {\n",
              "        vertical-align: middle;\n",
              "    }\n",
              "\n",
              "    .dataframe tbody tr th {\n",
              "        vertical-align: top;\n",
              "    }\n",
              "\n",
              "    .dataframe thead th {\n",
              "        text-align: right;\n",
              "    }\n",
              "</style>\n",
              "<table border=\"1\" class=\"dataframe\">\n",
              "  <thead>\n",
              "    <tr style=\"text-align: right;\">\n",
              "      <th></th>\n",
              "      <th>STATION CODE</th>\n",
              "      <th>LOCATIONS</th>\n",
              "      <th>STATE</th>\n",
              "      <th>Temp</th>\n",
              "      <th>D.O. (mg/l)</th>\n",
              "      <th>PH</th>\n",
              "      <th>CONDUCTIVITY (µmhos/cm)</th>\n",
              "      <th>B.O.D. (mg/l)</th>\n",
              "      <th>NITRATENAN N+ NITRITENANN (mg/l)</th>\n",
              "      <th>TOTAL COLIFORM (MPN/100ml)Mean</th>\n",
              "      <th>year</th>\n",
              "    </tr>\n",
              "  </thead>\n",
              "  <tbody>\n",
              "    <tr>\n",
              "      <th>0</th>\n",
              "      <td>1393</td>\n",
              "      <td>DAMANGANGA AT D/S OF MADHUBAN, DAMAN</td>\n",
              "      <td>DAMAN &amp; DIU</td>\n",
              "      <td>30.600000</td>\n",
              "      <td>6.7</td>\n",
              "      <td>7.5</td>\n",
              "      <td>203.0</td>\n",
              "      <td>6.940049</td>\n",
              "      <td>0.100000</td>\n",
              "      <td>27.0</td>\n",
              "      <td>2014</td>\n",
              "    </tr>\n",
              "    <tr>\n",
              "      <th>1</th>\n",
              "      <td>1399</td>\n",
              "      <td>ZUARI AT D/S OF PT. WHERE KUMBARJRIA CANAL JOI...</td>\n",
              "      <td>GOA</td>\n",
              "      <td>29.800000</td>\n",
              "      <td>5.7</td>\n",
              "      <td>7.2</td>\n",
              "      <td>189.0</td>\n",
              "      <td>2.000000</td>\n",
              "      <td>0.200000</td>\n",
              "      <td>8391.0</td>\n",
              "      <td>2014</td>\n",
              "    </tr>\n",
              "    <tr>\n",
              "      <th>2</th>\n",
              "      <td>1475</td>\n",
              "      <td>ZUARI AT PANCHAWADI</td>\n",
              "      <td>GOA</td>\n",
              "      <td>29.500000</td>\n",
              "      <td>6.3</td>\n",
              "      <td>6.9</td>\n",
              "      <td>179.0</td>\n",
              "      <td>1.700000</td>\n",
              "      <td>0.100000</td>\n",
              "      <td>5330.0</td>\n",
              "      <td>2014</td>\n",
              "    </tr>\n",
              "    <tr>\n",
              "      <th>3</th>\n",
              "      <td>3181</td>\n",
              "      <td>RIVER ZUARI AT BORIM BRIDGE</td>\n",
              "      <td>GOA</td>\n",
              "      <td>29.700000</td>\n",
              "      <td>5.8</td>\n",
              "      <td>6.9</td>\n",
              "      <td>64.0</td>\n",
              "      <td>3.800000</td>\n",
              "      <td>0.500000</td>\n",
              "      <td>8443.0</td>\n",
              "      <td>2014</td>\n",
              "    </tr>\n",
              "    <tr>\n",
              "      <th>4</th>\n",
              "      <td>3182</td>\n",
              "      <td>RIVER ZUARI AT MARCAIM JETTY</td>\n",
              "      <td>GOA</td>\n",
              "      <td>29.500000</td>\n",
              "      <td>5.8</td>\n",
              "      <td>7.3</td>\n",
              "      <td>83.0</td>\n",
              "      <td>1.900000</td>\n",
              "      <td>0.400000</td>\n",
              "      <td>5500.0</td>\n",
              "      <td>2014</td>\n",
              "    </tr>\n",
              "    <tr>\n",
              "      <th>...</th>\n",
              "      <td>...</td>\n",
              "      <td>...</td>\n",
              "      <td>...</td>\n",
              "      <td>...</td>\n",
              "      <td>...</td>\n",
              "      <td>...</td>\n",
              "      <td>...</td>\n",
              "      <td>...</td>\n",
              "      <td>...</td>\n",
              "      <td>...</td>\n",
              "      <td>...</td>\n",
              "    </tr>\n",
              "    <tr>\n",
              "      <th>1986</th>\n",
              "      <td>1330</td>\n",
              "      <td>TAMBIRAPARANI AT ARUMUGANERI, TAMILNADU</td>\n",
              "      <td>NAN</td>\n",
              "      <td>26.209814</td>\n",
              "      <td>7.9</td>\n",
              "      <td>738.0</td>\n",
              "      <td>7.2</td>\n",
              "      <td>2.700000</td>\n",
              "      <td>0.518000</td>\n",
              "      <td>202.0</td>\n",
              "      <td>2003</td>\n",
              "    </tr>\n",
              "    <tr>\n",
              "      <th>1987</th>\n",
              "      <td>1450</td>\n",
              "      <td>PALAR AT VANIYAMBADI WATER SUPPLY HEAD WORK, T...</td>\n",
              "      <td>NAN</td>\n",
              "      <td>29.000000</td>\n",
              "      <td>7.5</td>\n",
              "      <td>585.0</td>\n",
              "      <td>6.3</td>\n",
              "      <td>2.600000</td>\n",
              "      <td>0.155000</td>\n",
              "      <td>315.0</td>\n",
              "      <td>2003</td>\n",
              "    </tr>\n",
              "    <tr>\n",
              "      <th>1988</th>\n",
              "      <td>1403</td>\n",
              "      <td>GUMTI AT U/S SOUTH TRIPURA,TRIPURA</td>\n",
              "      <td>NAN</td>\n",
              "      <td>28.000000</td>\n",
              "      <td>7.6</td>\n",
              "      <td>98.0</td>\n",
              "      <td>6.2</td>\n",
              "      <td>1.200000</td>\n",
              "      <td>1.623079</td>\n",
              "      <td>570.0</td>\n",
              "      <td>2003</td>\n",
              "    </tr>\n",
              "    <tr>\n",
              "      <th>1989</th>\n",
              "      <td>1404</td>\n",
              "      <td>GUMTI AT D/S SOUTH TRIPURA, TRIPURA</td>\n",
              "      <td>NAN</td>\n",
              "      <td>28.000000</td>\n",
              "      <td>7.7</td>\n",
              "      <td>91.0</td>\n",
              "      <td>6.5</td>\n",
              "      <td>1.300000</td>\n",
              "      <td>1.623079</td>\n",
              "      <td>562.0</td>\n",
              "      <td>2003</td>\n",
              "    </tr>\n",
              "    <tr>\n",
              "      <th>1990</th>\n",
              "      <td>1726</td>\n",
              "      <td>CHANDRAPUR, AGARTALA D/S OF HAORA RIVER, TRIPURA</td>\n",
              "      <td>NAN</td>\n",
              "      <td>29.000000</td>\n",
              "      <td>7.6</td>\n",
              "      <td>110.0</td>\n",
              "      <td>5.7</td>\n",
              "      <td>1.100000</td>\n",
              "      <td>1.623079</td>\n",
              "      <td>546.0</td>\n",
              "      <td>2003</td>\n",
              "    </tr>\n",
              "  </tbody>\n",
              "</table>\n",
              "<p>1991 rows × 11 columns</p>\n",
              "</div>\n",
              "      <button class=\"colab-df-convert\" onclick=\"convertToInteractive('df-93929fb5-6c89-4a9e-a9f0-22ec3ad4c4ae')\"\n",
              "              title=\"Convert this dataframe to an interactive table.\"\n",
              "              style=\"display:none;\">\n",
              "        \n",
              "  <svg xmlns=\"http://www.w3.org/2000/svg\" height=\"24px\"viewBox=\"0 0 24 24\"\n",
              "       width=\"24px\">\n",
              "    <path d=\"M0 0h24v24H0V0z\" fill=\"none\"/>\n",
              "    <path d=\"M18.56 5.44l.94 2.06.94-2.06 2.06-.94-2.06-.94-.94-2.06-.94 2.06-2.06.94zm-11 1L8.5 8.5l.94-2.06 2.06-.94-2.06-.94L8.5 2.5l-.94 2.06-2.06.94zm10 10l.94 2.06.94-2.06 2.06-.94-2.06-.94-.94-2.06-.94 2.06-2.06.94z\"/><path d=\"M17.41 7.96l-1.37-1.37c-.4-.4-.92-.59-1.43-.59-.52 0-1.04.2-1.43.59L10.3 9.45l-7.72 7.72c-.78.78-.78 2.05 0 2.83L4 21.41c.39.39.9.59 1.41.59.51 0 1.02-.2 1.41-.59l7.78-7.78 2.81-2.81c.8-.78.8-2.07 0-2.86zM5.41 20L4 18.59l7.72-7.72 1.47 1.35L5.41 20z\"/>\n",
              "  </svg>\n",
              "      </button>\n",
              "      \n",
              "  <style>\n",
              "    .colab-df-container {\n",
              "      display:flex;\n",
              "      flex-wrap:wrap;\n",
              "      gap: 12px;\n",
              "    }\n",
              "\n",
              "    .colab-df-convert {\n",
              "      background-color: #E8F0FE;\n",
              "      border: none;\n",
              "      border-radius: 50%;\n",
              "      cursor: pointer;\n",
              "      display: none;\n",
              "      fill: #1967D2;\n",
              "      height: 32px;\n",
              "      padding: 0 0 0 0;\n",
              "      width: 32px;\n",
              "    }\n",
              "\n",
              "    .colab-df-convert:hover {\n",
              "      background-color: #E2EBFA;\n",
              "      box-shadow: 0px 1px 2px rgba(60, 64, 67, 0.3), 0px 1px 3px 1px rgba(60, 64, 67, 0.15);\n",
              "      fill: #174EA6;\n",
              "    }\n",
              "\n",
              "    [theme=dark] .colab-df-convert {\n",
              "      background-color: #3B4455;\n",
              "      fill: #D2E3FC;\n",
              "    }\n",
              "\n",
              "    [theme=dark] .colab-df-convert:hover {\n",
              "      background-color: #434B5C;\n",
              "      box-shadow: 0px 1px 3px 1px rgba(0, 0, 0, 0.15);\n",
              "      filter: drop-shadow(0px 1px 2px rgba(0, 0, 0, 0.3));\n",
              "      fill: #FFFFFF;\n",
              "    }\n",
              "  </style>\n",
              "\n",
              "      <script>\n",
              "        const buttonEl =\n",
              "          document.querySelector('#df-93929fb5-6c89-4a9e-a9f0-22ec3ad4c4ae button.colab-df-convert');\n",
              "        buttonEl.style.display =\n",
              "          google.colab.kernel.accessAllowed ? 'block' : 'none';\n",
              "\n",
              "        async function convertToInteractive(key) {\n",
              "          const element = document.querySelector('#df-93929fb5-6c89-4a9e-a9f0-22ec3ad4c4ae');\n",
              "          const dataTable =\n",
              "            await google.colab.kernel.invokeFunction('convertToInteractive',\n",
              "                                                     [key], {});\n",
              "          if (!dataTable) return;\n",
              "\n",
              "          const docLinkHtml = 'Like what you see? Visit the ' +\n",
              "            '<a target=\"_blank\" href=https://colab.research.google.com/notebooks/data_table.ipynb>data table notebook</a>'\n",
              "            + ' to learn more about interactive tables.';\n",
              "          element.innerHTML = '';\n",
              "          dataTable['output_type'] = 'display_data';\n",
              "          await google.colab.output.renderOutput(dataTable, element);\n",
              "          const docLink = document.createElement('div');\n",
              "          docLink.innerHTML = docLinkHtml;\n",
              "          element.appendChild(docLink);\n",
              "        }\n",
              "      </script>\n",
              "    </div>\n",
              "  </div>\n",
              "  "
            ]
          },
          "metadata": {},
          "execution_count": 13
        }
      ]
    },
    {
      "cell_type": "code",
      "source": [
        "data=data.rename(columns={'D.O. (mg/l)':'do'})\n",
        "data=data.rename(columns={'CONDUCTIVITY (µmhos/cm)':'co'})\n",
        "data=data.rename(columns={'B.O.D. (mg/l)':'bod'})\n",
        "data=data.rename(columns={'NITRATENAN N+ NITRITENANN (mg/l)':'na'})\n",
        "data=data.rename(columns={'TOTAL COLIFORM (MPN/100ml)Mean':'tc'})\n",
        "data=data.rename(columns={'STATION CODE':'station'})\n",
        "data=data.rename(columns={'LOCATIONS':'location'})\n",
        "data=data.rename(columns={'STATE':'state'})\n",
        "data=data.rename(columns={'PH':'ph'})"
      ],
      "metadata": {
        "id": "oBEMKPeh932B"
      },
      "execution_count": null,
      "outputs": []
    },
    {
      "cell_type": "code",
      "source": [
        "data"
      ],
      "metadata": {
        "colab": {
          "base_uri": "https://localhost:8080/",
          "height": 467
        },
        "id": "nlKNFjeE-7xq",
        "outputId": "96496ae1-e6ed-4049-b1b0-8ce56c888d59"
      },
      "execution_count": null,
      "outputs": [
        {
          "output_type": "execute_result",
          "data": {
            "text/plain": [
              "     station                                           location        state  \\\n",
              "0       1393               DAMANGANGA AT D/S OF MADHUBAN, DAMAN  DAMAN & DIU   \n",
              "1       1399  ZUARI AT D/S OF PT. WHERE KUMBARJRIA CANAL JOI...          GOA   \n",
              "2       1475                                ZUARI AT PANCHAWADI          GOA   \n",
              "3       3181                        RIVER ZUARI AT BORIM BRIDGE          GOA   \n",
              "4       3182                       RIVER ZUARI AT MARCAIM JETTY          GOA   \n",
              "...      ...                                                ...          ...   \n",
              "1986    1330            TAMBIRAPARANI AT ARUMUGANERI, TAMILNADU          NAN   \n",
              "1987    1450  PALAR AT VANIYAMBADI WATER SUPPLY HEAD WORK, T...          NAN   \n",
              "1988    1403                 GUMTI AT U/S SOUTH TRIPURA,TRIPURA          NAN   \n",
              "1989    1404                GUMTI AT D/S SOUTH TRIPURA, TRIPURA          NAN   \n",
              "1990    1726   CHANDRAPUR, AGARTALA D/S OF HAORA RIVER, TRIPURA          NAN   \n",
              "\n",
              "           Temp   do     ph     co       bod        na      tc  year  \n",
              "0     30.600000  6.7    7.5  203.0  6.940049  0.100000    27.0  2014  \n",
              "1     29.800000  5.7    7.2  189.0  2.000000  0.200000  8391.0  2014  \n",
              "2     29.500000  6.3    6.9  179.0  1.700000  0.100000  5330.0  2014  \n",
              "3     29.700000  5.8    6.9   64.0  3.800000  0.500000  8443.0  2014  \n",
              "4     29.500000  5.8    7.3   83.0  1.900000  0.400000  5500.0  2014  \n",
              "...         ...  ...    ...    ...       ...       ...     ...   ...  \n",
              "1986  26.209814  7.9  738.0    7.2  2.700000  0.518000   202.0  2003  \n",
              "1987  29.000000  7.5  585.0    6.3  2.600000  0.155000   315.0  2003  \n",
              "1988  28.000000  7.6   98.0    6.2  1.200000  1.623079   570.0  2003  \n",
              "1989  28.000000  7.7   91.0    6.5  1.300000  1.623079   562.0  2003  \n",
              "1990  29.000000  7.6  110.0    5.7  1.100000  1.623079   546.0  2003  \n",
              "\n",
              "[1991 rows x 11 columns]"
            ],
            "text/html": [
              "\n",
              "  <div id=\"df-1000881e-4338-46cb-952f-f7b2b437461e\">\n",
              "    <div class=\"colab-df-container\">\n",
              "      <div>\n",
              "<style scoped>\n",
              "    .dataframe tbody tr th:only-of-type {\n",
              "        vertical-align: middle;\n",
              "    }\n",
              "\n",
              "    .dataframe tbody tr th {\n",
              "        vertical-align: top;\n",
              "    }\n",
              "\n",
              "    .dataframe thead th {\n",
              "        text-align: right;\n",
              "    }\n",
              "</style>\n",
              "<table border=\"1\" class=\"dataframe\">\n",
              "  <thead>\n",
              "    <tr style=\"text-align: right;\">\n",
              "      <th></th>\n",
              "      <th>station</th>\n",
              "      <th>location</th>\n",
              "      <th>state</th>\n",
              "      <th>Temp</th>\n",
              "      <th>do</th>\n",
              "      <th>ph</th>\n",
              "      <th>co</th>\n",
              "      <th>bod</th>\n",
              "      <th>na</th>\n",
              "      <th>tc</th>\n",
              "      <th>year</th>\n",
              "    </tr>\n",
              "  </thead>\n",
              "  <tbody>\n",
              "    <tr>\n",
              "      <th>0</th>\n",
              "      <td>1393</td>\n",
              "      <td>DAMANGANGA AT D/S OF MADHUBAN, DAMAN</td>\n",
              "      <td>DAMAN &amp; DIU</td>\n",
              "      <td>30.600000</td>\n",
              "      <td>6.7</td>\n",
              "      <td>7.5</td>\n",
              "      <td>203.0</td>\n",
              "      <td>6.940049</td>\n",
              "      <td>0.100000</td>\n",
              "      <td>27.0</td>\n",
              "      <td>2014</td>\n",
              "    </tr>\n",
              "    <tr>\n",
              "      <th>1</th>\n",
              "      <td>1399</td>\n",
              "      <td>ZUARI AT D/S OF PT. WHERE KUMBARJRIA CANAL JOI...</td>\n",
              "      <td>GOA</td>\n",
              "      <td>29.800000</td>\n",
              "      <td>5.7</td>\n",
              "      <td>7.2</td>\n",
              "      <td>189.0</td>\n",
              "      <td>2.000000</td>\n",
              "      <td>0.200000</td>\n",
              "      <td>8391.0</td>\n",
              "      <td>2014</td>\n",
              "    </tr>\n",
              "    <tr>\n",
              "      <th>2</th>\n",
              "      <td>1475</td>\n",
              "      <td>ZUARI AT PANCHAWADI</td>\n",
              "      <td>GOA</td>\n",
              "      <td>29.500000</td>\n",
              "      <td>6.3</td>\n",
              "      <td>6.9</td>\n",
              "      <td>179.0</td>\n",
              "      <td>1.700000</td>\n",
              "      <td>0.100000</td>\n",
              "      <td>5330.0</td>\n",
              "      <td>2014</td>\n",
              "    </tr>\n",
              "    <tr>\n",
              "      <th>3</th>\n",
              "      <td>3181</td>\n",
              "      <td>RIVER ZUARI AT BORIM BRIDGE</td>\n",
              "      <td>GOA</td>\n",
              "      <td>29.700000</td>\n",
              "      <td>5.8</td>\n",
              "      <td>6.9</td>\n",
              "      <td>64.0</td>\n",
              "      <td>3.800000</td>\n",
              "      <td>0.500000</td>\n",
              "      <td>8443.0</td>\n",
              "      <td>2014</td>\n",
              "    </tr>\n",
              "    <tr>\n",
              "      <th>4</th>\n",
              "      <td>3182</td>\n",
              "      <td>RIVER ZUARI AT MARCAIM JETTY</td>\n",
              "      <td>GOA</td>\n",
              "      <td>29.500000</td>\n",
              "      <td>5.8</td>\n",
              "      <td>7.3</td>\n",
              "      <td>83.0</td>\n",
              "      <td>1.900000</td>\n",
              "      <td>0.400000</td>\n",
              "      <td>5500.0</td>\n",
              "      <td>2014</td>\n",
              "    </tr>\n",
              "    <tr>\n",
              "      <th>...</th>\n",
              "      <td>...</td>\n",
              "      <td>...</td>\n",
              "      <td>...</td>\n",
              "      <td>...</td>\n",
              "      <td>...</td>\n",
              "      <td>...</td>\n",
              "      <td>...</td>\n",
              "      <td>...</td>\n",
              "      <td>...</td>\n",
              "      <td>...</td>\n",
              "      <td>...</td>\n",
              "    </tr>\n",
              "    <tr>\n",
              "      <th>1986</th>\n",
              "      <td>1330</td>\n",
              "      <td>TAMBIRAPARANI AT ARUMUGANERI, TAMILNADU</td>\n",
              "      <td>NAN</td>\n",
              "      <td>26.209814</td>\n",
              "      <td>7.9</td>\n",
              "      <td>738.0</td>\n",
              "      <td>7.2</td>\n",
              "      <td>2.700000</td>\n",
              "      <td>0.518000</td>\n",
              "      <td>202.0</td>\n",
              "      <td>2003</td>\n",
              "    </tr>\n",
              "    <tr>\n",
              "      <th>1987</th>\n",
              "      <td>1450</td>\n",
              "      <td>PALAR AT VANIYAMBADI WATER SUPPLY HEAD WORK, T...</td>\n",
              "      <td>NAN</td>\n",
              "      <td>29.000000</td>\n",
              "      <td>7.5</td>\n",
              "      <td>585.0</td>\n",
              "      <td>6.3</td>\n",
              "      <td>2.600000</td>\n",
              "      <td>0.155000</td>\n",
              "      <td>315.0</td>\n",
              "      <td>2003</td>\n",
              "    </tr>\n",
              "    <tr>\n",
              "      <th>1988</th>\n",
              "      <td>1403</td>\n",
              "      <td>GUMTI AT U/S SOUTH TRIPURA,TRIPURA</td>\n",
              "      <td>NAN</td>\n",
              "      <td>28.000000</td>\n",
              "      <td>7.6</td>\n",
              "      <td>98.0</td>\n",
              "      <td>6.2</td>\n",
              "      <td>1.200000</td>\n",
              "      <td>1.623079</td>\n",
              "      <td>570.0</td>\n",
              "      <td>2003</td>\n",
              "    </tr>\n",
              "    <tr>\n",
              "      <th>1989</th>\n",
              "      <td>1404</td>\n",
              "      <td>GUMTI AT D/S SOUTH TRIPURA, TRIPURA</td>\n",
              "      <td>NAN</td>\n",
              "      <td>28.000000</td>\n",
              "      <td>7.7</td>\n",
              "      <td>91.0</td>\n",
              "      <td>6.5</td>\n",
              "      <td>1.300000</td>\n",
              "      <td>1.623079</td>\n",
              "      <td>562.0</td>\n",
              "      <td>2003</td>\n",
              "    </tr>\n",
              "    <tr>\n",
              "      <th>1990</th>\n",
              "      <td>1726</td>\n",
              "      <td>CHANDRAPUR, AGARTALA D/S OF HAORA RIVER, TRIPURA</td>\n",
              "      <td>NAN</td>\n",
              "      <td>29.000000</td>\n",
              "      <td>7.6</td>\n",
              "      <td>110.0</td>\n",
              "      <td>5.7</td>\n",
              "      <td>1.100000</td>\n",
              "      <td>1.623079</td>\n",
              "      <td>546.0</td>\n",
              "      <td>2003</td>\n",
              "    </tr>\n",
              "  </tbody>\n",
              "</table>\n",
              "<p>1991 rows × 11 columns</p>\n",
              "</div>\n",
              "      <button class=\"colab-df-convert\" onclick=\"convertToInteractive('df-1000881e-4338-46cb-952f-f7b2b437461e')\"\n",
              "              title=\"Convert this dataframe to an interactive table.\"\n",
              "              style=\"display:none;\">\n",
              "        \n",
              "  <svg xmlns=\"http://www.w3.org/2000/svg\" height=\"24px\"viewBox=\"0 0 24 24\"\n",
              "       width=\"24px\">\n",
              "    <path d=\"M0 0h24v24H0V0z\" fill=\"none\"/>\n",
              "    <path d=\"M18.56 5.44l.94 2.06.94-2.06 2.06-.94-2.06-.94-.94-2.06-.94 2.06-2.06.94zm-11 1L8.5 8.5l.94-2.06 2.06-.94-2.06-.94L8.5 2.5l-.94 2.06-2.06.94zm10 10l.94 2.06.94-2.06 2.06-.94-2.06-.94-.94-2.06-.94 2.06-2.06.94z\"/><path d=\"M17.41 7.96l-1.37-1.37c-.4-.4-.92-.59-1.43-.59-.52 0-1.04.2-1.43.59L10.3 9.45l-7.72 7.72c-.78.78-.78 2.05 0 2.83L4 21.41c.39.39.9.59 1.41.59.51 0 1.02-.2 1.41-.59l7.78-7.78 2.81-2.81c.8-.78.8-2.07 0-2.86zM5.41 20L4 18.59l7.72-7.72 1.47 1.35L5.41 20z\"/>\n",
              "  </svg>\n",
              "      </button>\n",
              "      \n",
              "  <style>\n",
              "    .colab-df-container {\n",
              "      display:flex;\n",
              "      flex-wrap:wrap;\n",
              "      gap: 12px;\n",
              "    }\n",
              "\n",
              "    .colab-df-convert {\n",
              "      background-color: #E8F0FE;\n",
              "      border: none;\n",
              "      border-radius: 50%;\n",
              "      cursor: pointer;\n",
              "      display: none;\n",
              "      fill: #1967D2;\n",
              "      height: 32px;\n",
              "      padding: 0 0 0 0;\n",
              "      width: 32px;\n",
              "    }\n",
              "\n",
              "    .colab-df-convert:hover {\n",
              "      background-color: #E2EBFA;\n",
              "      box-shadow: 0px 1px 2px rgba(60, 64, 67, 0.3), 0px 1px 3px 1px rgba(60, 64, 67, 0.15);\n",
              "      fill: #174EA6;\n",
              "    }\n",
              "\n",
              "    [theme=dark] .colab-df-convert {\n",
              "      background-color: #3B4455;\n",
              "      fill: #D2E3FC;\n",
              "    }\n",
              "\n",
              "    [theme=dark] .colab-df-convert:hover {\n",
              "      background-color: #434B5C;\n",
              "      box-shadow: 0px 1px 3px 1px rgba(0, 0, 0, 0.15);\n",
              "      filter: drop-shadow(0px 1px 2px rgba(0, 0, 0, 0.3));\n",
              "      fill: #FFFFFF;\n",
              "    }\n",
              "  </style>\n",
              "\n",
              "      <script>\n",
              "        const buttonEl =\n",
              "          document.querySelector('#df-1000881e-4338-46cb-952f-f7b2b437461e button.colab-df-convert');\n",
              "        buttonEl.style.display =\n",
              "          google.colab.kernel.accessAllowed ? 'block' : 'none';\n",
              "\n",
              "        async function convertToInteractive(key) {\n",
              "          const element = document.querySelector('#df-1000881e-4338-46cb-952f-f7b2b437461e');\n",
              "          const dataTable =\n",
              "            await google.colab.kernel.invokeFunction('convertToInteractive',\n",
              "                                                     [key], {});\n",
              "          if (!dataTable) return;\n",
              "\n",
              "          const docLinkHtml = 'Like what you see? Visit the ' +\n",
              "            '<a target=\"_blank\" href=https://colab.research.google.com/notebooks/data_table.ipynb>data table notebook</a>'\n",
              "            + ' to learn more about interactive tables.';\n",
              "          element.innerHTML = '';\n",
              "          dataTable['output_type'] = 'display_data';\n",
              "          await google.colab.output.renderOutput(dataTable, element);\n",
              "          const docLink = document.createElement('div');\n",
              "          docLink.innerHTML = docLinkHtml;\n",
              "          element.appendChild(docLink);\n",
              "        }\n",
              "      </script>\n",
              "    </div>\n",
              "  </div>\n",
              "  "
            ]
          },
          "metadata": {},
          "execution_count": 15
        }
      ]
    },
    {
      "cell_type": "markdown",
      "source": [
        "# WATER QUALITY INDEX CALCULATION"
      ],
      "metadata": {
        "id": "0ssQMxHoAhVX"
      }
    },
    {
      "cell_type": "code",
      "source": [
        "data['npH']=data.ph.apply(lambda x:(100 if (8.5>=x>=7)\n",
        "else(80 if (8.6>=x>=8.5)or (6.9>=x>=6.8)\n",
        "else(60 if (8.8>=x>=8.6)or (6.8>=x>=6.7)\n",
        "else(40 if (9>=x>=8.8)or (6.7>=x>=6.5)\n",
        "else 0)))))"
      ],
      "metadata": {
        "id": "Gblh3Yqr--FN"
      },
      "execution_count": null,
      "outputs": []
    },
    {
      "cell_type": "code",
      "source": [
        "data['npH']"
      ],
      "metadata": {
        "colab": {
          "base_uri": "https://localhost:8080/"
        },
        "id": "BjjsFTOxB6YI",
        "outputId": "56c55426-d57a-4d6b-d5a1-2ecb78ebacc9"
      },
      "execution_count": null,
      "outputs": [
        {
          "output_type": "execute_result",
          "data": {
            "text/plain": [
              "0       100\n",
              "1       100\n",
              "2        80\n",
              "3        80\n",
              "4       100\n",
              "       ... \n",
              "1986      0\n",
              "1987      0\n",
              "1988      0\n",
              "1989      0\n",
              "1990      0\n",
              "Name: npH, Length: 1991, dtype: int64"
            ]
          },
          "metadata": {},
          "execution_count": 17
        }
      ]
    },
    {
      "cell_type": "code",
      "source": [
        "data['ndo']=data.do.apply(lambda x: (100 if (x>=6) \n",
        "else(80 if (6>=x>=5.1) \n",
        "else(60 if (5>=x>=4.1) \n",
        "else(40 if (4>=x>=3) \n",
        "else 0)))))"
      ],
      "metadata": {
        "id": "bwssBOUeCzfE"
      },
      "execution_count": null,
      "outputs": []
    },
    {
      "cell_type": "code",
      "source": [
        "data['ndo']"
      ],
      "metadata": {
        "colab": {
          "base_uri": "https://localhost:8080/"
        },
        "id": "8x5BW8EUCzxL",
        "outputId": "b1c2b59e-5c54-4876-f031-4da210a3b881"
      },
      "execution_count": null,
      "outputs": [
        {
          "output_type": "execute_result",
          "data": {
            "text/plain": [
              "0       100\n",
              "1        80\n",
              "2       100\n",
              "3        80\n",
              "4        80\n",
              "       ... \n",
              "1986    100\n",
              "1987    100\n",
              "1988    100\n",
              "1989    100\n",
              "1990    100\n",
              "Name: ndo, Length: 1991, dtype: int64"
            ]
          },
          "metadata": {},
          "execution_count": 19
        }
      ]
    },
    {
      "cell_type": "code",
      "source": [
        "data['nco']=data.tc.apply(lambda x:(100 if (5>=x>=0)\n",
        "else(80 if (50>=x>=5)\n",
        "else(60 if (500>=x>=50)\n",
        "else(40 if (10000>=x>=500)\n",
        "else 0)))))"
      ],
      "metadata": {
        "id": "Tp3QaQmwCz5c"
      },
      "execution_count": null,
      "outputs": []
    },
    {
      "cell_type": "code",
      "source": [
        "data['nco']"
      ],
      "metadata": {
        "colab": {
          "base_uri": "https://localhost:8080/"
        },
        "id": "8kChE4KVDE0F",
        "outputId": "67b30155-3b6f-420e-8fa0-fc1253a0402a"
      },
      "execution_count": null,
      "outputs": [
        {
          "output_type": "execute_result",
          "data": {
            "text/plain": [
              "0       80\n",
              "1       40\n",
              "2       40\n",
              "3       40\n",
              "4       40\n",
              "        ..\n",
              "1986    60\n",
              "1987    60\n",
              "1988    40\n",
              "1989    40\n",
              "1990    40\n",
              "Name: nco, Length: 1991, dtype: int64"
            ]
          },
          "metadata": {},
          "execution_count": 21
        }
      ]
    },
    {
      "cell_type": "code",
      "source": [
        "data['nbdo']=data.bod.apply(lambda x: (100 if (3>=x>=0)\n",
        "else(80 if (6>=x>=3)\n",
        "else(60 if (80>=x>=6)\n",
        "else(40 if (125>=x>=80)\n",
        "else 0)))))"
      ],
      "metadata": {
        "id": "LfvN3VoaDFIC"
      },
      "execution_count": null,
      "outputs": []
    },
    {
      "cell_type": "code",
      "source": [
        "data['nbdo']"
      ],
      "metadata": {
        "colab": {
          "base_uri": "https://localhost:8080/"
        },
        "id": "Cce2sIZFDd-r",
        "outputId": "6c917604-35da-4ca4-beb7-327301866a88"
      },
      "execution_count": null,
      "outputs": [
        {
          "output_type": "execute_result",
          "data": {
            "text/plain": [
              "0        60\n",
              "1       100\n",
              "2       100\n",
              "3        80\n",
              "4       100\n",
              "       ... \n",
              "1986    100\n",
              "1987    100\n",
              "1988    100\n",
              "1989    100\n",
              "1990    100\n",
              "Name: nbdo, Length: 1991, dtype: int64"
            ]
          },
          "metadata": {},
          "execution_count": 23
        }
      ]
    },
    {
      "cell_type": "markdown",
      "source": [
        "# WATER QUALITY INDEX CALCULATION - 2"
      ],
      "metadata": {
        "id": "UlGSc6y4Donk"
      }
    },
    {
      "cell_type": "code",
      "source": [
        "data['nec']=data.co.apply(lambda x: (100 if (75>=x>=0)\n",
        "else(80 if (150>=x>=75)\n",
        "else(60 if (225>=x>=150)\n",
        "else(40 if (300>=x>=225)\n",
        "else 0)))))"
      ],
      "metadata": {
        "id": "viwdfJHOB8Tu"
      },
      "execution_count": null,
      "outputs": []
    },
    {
      "cell_type": "code",
      "source": [
        "data['nec']"
      ],
      "metadata": {
        "colab": {
          "base_uri": "https://localhost:8080/"
        },
        "id": "6EgFJvLOCliQ",
        "outputId": "d6b8abda-fa99-4ced-eb1e-1c4e4ce1b90f"
      },
      "execution_count": null,
      "outputs": [
        {
          "output_type": "execute_result",
          "data": {
            "text/plain": [
              "0        60\n",
              "1        60\n",
              "2        60\n",
              "3       100\n",
              "4        80\n",
              "       ... \n",
              "1986    100\n",
              "1987    100\n",
              "1988    100\n",
              "1989    100\n",
              "1990    100\n",
              "Name: nec, Length: 1991, dtype: int64"
            ]
          },
          "metadata": {},
          "execution_count": 25
        }
      ]
    },
    {
      "cell_type": "code",
      "source": [
        "data['nna']=data.na.apply(lambda x:(100 if (20>=x>=0)\n",
        "else(80 if (50>=x>=20)\n",
        "else(60 if (100>=x>=50)\n",
        "else(40 if (200>=x>=100)\n",
        "else 0)))))"
      ],
      "metadata": {
        "id": "qfaqrrKsCpER"
      },
      "execution_count": null,
      "outputs": []
    },
    {
      "cell_type": "code",
      "source": [
        "data['nna']"
      ],
      "metadata": {
        "colab": {
          "base_uri": "https://localhost:8080/"
        },
        "id": "AV0kBZQtD1DD",
        "outputId": "d19b28f5-3b29-4a97-df85-dedad3a27c7f"
      },
      "execution_count": null,
      "outputs": [
        {
          "output_type": "execute_result",
          "data": {
            "text/plain": [
              "0       100\n",
              "1       100\n",
              "2       100\n",
              "3       100\n",
              "4       100\n",
              "       ... \n",
              "1986    100\n",
              "1987    100\n",
              "1988    100\n",
              "1989    100\n",
              "1990    100\n",
              "Name: nna, Length: 1991, dtype: int64"
            ]
          },
          "metadata": {},
          "execution_count": 27
        }
      ]
    },
    {
      "cell_type": "markdown",
      "source": [
        "# WATER QUALITY INDEX CALCULATION - 3"
      ],
      "metadata": {
        "id": "xp8YUGWLEBO9"
      }
    },
    {
      "cell_type": "code",
      "source": [
        "data['wph']=data.npH * 0.165\n",
        "data['wdo']=data.ndo * 0.281\n",
        "data['wbdo']=data.nbdo * 0.234\n",
        "data['wec']=data.nec * 0.009\n",
        "data['wna']=data.nna * 0.028\n",
        "data['wco']=data.nco * 0.281\n",
        "data['wqi']=data.wph+data.wdo+data.wbdo+data.wec+data.wna+data.wco\n",
        "data"
      ],
      "metadata": {
        "colab": {
          "base_uri": "https://localhost:8080/",
          "height": 869
        },
        "id": "A5YHEJz8D3TS",
        "outputId": "df30ac01-0e9f-4739-8c54-28686bf5d496"
      },
      "execution_count": null,
      "outputs": [
        {
          "output_type": "execute_result",
          "data": {
            "text/plain": [
              "     station                                           location        state  \\\n",
              "0       1393               DAMANGANGA AT D/S OF MADHUBAN, DAMAN  DAMAN & DIU   \n",
              "1       1399  ZUARI AT D/S OF PT. WHERE KUMBARJRIA CANAL JOI...          GOA   \n",
              "2       1475                                ZUARI AT PANCHAWADI          GOA   \n",
              "3       3181                        RIVER ZUARI AT BORIM BRIDGE          GOA   \n",
              "4       3182                       RIVER ZUARI AT MARCAIM JETTY          GOA   \n",
              "...      ...                                                ...          ...   \n",
              "1986    1330            TAMBIRAPARANI AT ARUMUGANERI, TAMILNADU          NAN   \n",
              "1987    1450  PALAR AT VANIYAMBADI WATER SUPPLY HEAD WORK, T...          NAN   \n",
              "1988    1403                 GUMTI AT U/S SOUTH TRIPURA,TRIPURA          NAN   \n",
              "1989    1404                GUMTI AT D/S SOUTH TRIPURA, TRIPURA          NAN   \n",
              "1990    1726   CHANDRAPUR, AGARTALA D/S OF HAORA RIVER, TRIPURA          NAN   \n",
              "\n",
              "           Temp   do     ph     co       bod        na      tc  ...  nbdo  \\\n",
              "0     30.600000  6.7    7.5  203.0  6.940049  0.100000    27.0  ...    60   \n",
              "1     29.800000  5.7    7.2  189.0  2.000000  0.200000  8391.0  ...   100   \n",
              "2     29.500000  6.3    6.9  179.0  1.700000  0.100000  5330.0  ...   100   \n",
              "3     29.700000  5.8    6.9   64.0  3.800000  0.500000  8443.0  ...    80   \n",
              "4     29.500000  5.8    7.3   83.0  1.900000  0.400000  5500.0  ...   100   \n",
              "...         ...  ...    ...    ...       ...       ...     ...  ...   ...   \n",
              "1986  26.209814  7.9  738.0    7.2  2.700000  0.518000   202.0  ...   100   \n",
              "1987  29.000000  7.5  585.0    6.3  2.600000  0.155000   315.0  ...   100   \n",
              "1988  28.000000  7.6   98.0    6.2  1.200000  1.623079   570.0  ...   100   \n",
              "1989  28.000000  7.7   91.0    6.5  1.300000  1.623079   562.0  ...   100   \n",
              "1990  29.000000  7.6  110.0    5.7  1.100000  1.623079   546.0  ...   100   \n",
              "\n",
              "      nec  nna   wph    wdo   wbdo   wec  wna    wco    wqi  \n",
              "0      60  100  16.5  28.10  14.04  0.54  2.8  22.48  84.46  \n",
              "1      60  100  16.5  22.48  23.40  0.54  2.8  11.24  76.96  \n",
              "2      60  100  13.2  28.10  23.40  0.54  2.8  11.24  79.28  \n",
              "3     100  100  13.2  22.48  18.72  0.90  2.8  11.24  69.34  \n",
              "4      80  100  16.5  22.48  23.40  0.72  2.8  11.24  77.14  \n",
              "...   ...  ...   ...    ...    ...   ...  ...    ...    ...  \n",
              "1986  100  100   0.0  28.10  23.40  0.90  2.8  16.86  72.06  \n",
              "1987  100  100   0.0  28.10  23.40  0.90  2.8  16.86  72.06  \n",
              "1988  100  100   0.0  28.10  23.40  0.90  2.8  11.24  66.44  \n",
              "1989  100  100   0.0  28.10  23.40  0.90  2.8  11.24  66.44  \n",
              "1990  100  100   0.0  28.10  23.40  0.90  2.8  11.24  66.44  \n",
              "\n",
              "[1991 rows x 24 columns]"
            ],
            "text/html": [
              "\n",
              "  <div id=\"df-a09f75a2-12ed-4d21-bb91-0d01ed20f726\">\n",
              "    <div class=\"colab-df-container\">\n",
              "      <div>\n",
              "<style scoped>\n",
              "    .dataframe tbody tr th:only-of-type {\n",
              "        vertical-align: middle;\n",
              "    }\n",
              "\n",
              "    .dataframe tbody tr th {\n",
              "        vertical-align: top;\n",
              "    }\n",
              "\n",
              "    .dataframe thead th {\n",
              "        text-align: right;\n",
              "    }\n",
              "</style>\n",
              "<table border=\"1\" class=\"dataframe\">\n",
              "  <thead>\n",
              "    <tr style=\"text-align: right;\">\n",
              "      <th></th>\n",
              "      <th>station</th>\n",
              "      <th>location</th>\n",
              "      <th>state</th>\n",
              "      <th>Temp</th>\n",
              "      <th>do</th>\n",
              "      <th>ph</th>\n",
              "      <th>co</th>\n",
              "      <th>bod</th>\n",
              "      <th>na</th>\n",
              "      <th>tc</th>\n",
              "      <th>...</th>\n",
              "      <th>nbdo</th>\n",
              "      <th>nec</th>\n",
              "      <th>nna</th>\n",
              "      <th>wph</th>\n",
              "      <th>wdo</th>\n",
              "      <th>wbdo</th>\n",
              "      <th>wec</th>\n",
              "      <th>wna</th>\n",
              "      <th>wco</th>\n",
              "      <th>wqi</th>\n",
              "    </tr>\n",
              "  </thead>\n",
              "  <tbody>\n",
              "    <tr>\n",
              "      <th>0</th>\n",
              "      <td>1393</td>\n",
              "      <td>DAMANGANGA AT D/S OF MADHUBAN, DAMAN</td>\n",
              "      <td>DAMAN &amp; DIU</td>\n",
              "      <td>30.600000</td>\n",
              "      <td>6.7</td>\n",
              "      <td>7.5</td>\n",
              "      <td>203.0</td>\n",
              "      <td>6.940049</td>\n",
              "      <td>0.100000</td>\n",
              "      <td>27.0</td>\n",
              "      <td>...</td>\n",
              "      <td>60</td>\n",
              "      <td>60</td>\n",
              "      <td>100</td>\n",
              "      <td>16.5</td>\n",
              "      <td>28.10</td>\n",
              "      <td>14.04</td>\n",
              "      <td>0.54</td>\n",
              "      <td>2.8</td>\n",
              "      <td>22.48</td>\n",
              "      <td>84.46</td>\n",
              "    </tr>\n",
              "    <tr>\n",
              "      <th>1</th>\n",
              "      <td>1399</td>\n",
              "      <td>ZUARI AT D/S OF PT. WHERE KUMBARJRIA CANAL JOI...</td>\n",
              "      <td>GOA</td>\n",
              "      <td>29.800000</td>\n",
              "      <td>5.7</td>\n",
              "      <td>7.2</td>\n",
              "      <td>189.0</td>\n",
              "      <td>2.000000</td>\n",
              "      <td>0.200000</td>\n",
              "      <td>8391.0</td>\n",
              "      <td>...</td>\n",
              "      <td>100</td>\n",
              "      <td>60</td>\n",
              "      <td>100</td>\n",
              "      <td>16.5</td>\n",
              "      <td>22.48</td>\n",
              "      <td>23.40</td>\n",
              "      <td>0.54</td>\n",
              "      <td>2.8</td>\n",
              "      <td>11.24</td>\n",
              "      <td>76.96</td>\n",
              "    </tr>\n",
              "    <tr>\n",
              "      <th>2</th>\n",
              "      <td>1475</td>\n",
              "      <td>ZUARI AT PANCHAWADI</td>\n",
              "      <td>GOA</td>\n",
              "      <td>29.500000</td>\n",
              "      <td>6.3</td>\n",
              "      <td>6.9</td>\n",
              "      <td>179.0</td>\n",
              "      <td>1.700000</td>\n",
              "      <td>0.100000</td>\n",
              "      <td>5330.0</td>\n",
              "      <td>...</td>\n",
              "      <td>100</td>\n",
              "      <td>60</td>\n",
              "      <td>100</td>\n",
              "      <td>13.2</td>\n",
              "      <td>28.10</td>\n",
              "      <td>23.40</td>\n",
              "      <td>0.54</td>\n",
              "      <td>2.8</td>\n",
              "      <td>11.24</td>\n",
              "      <td>79.28</td>\n",
              "    </tr>\n",
              "    <tr>\n",
              "      <th>3</th>\n",
              "      <td>3181</td>\n",
              "      <td>RIVER ZUARI AT BORIM BRIDGE</td>\n",
              "      <td>GOA</td>\n",
              "      <td>29.700000</td>\n",
              "      <td>5.8</td>\n",
              "      <td>6.9</td>\n",
              "      <td>64.0</td>\n",
              "      <td>3.800000</td>\n",
              "      <td>0.500000</td>\n",
              "      <td>8443.0</td>\n",
              "      <td>...</td>\n",
              "      <td>80</td>\n",
              "      <td>100</td>\n",
              "      <td>100</td>\n",
              "      <td>13.2</td>\n",
              "      <td>22.48</td>\n",
              "      <td>18.72</td>\n",
              "      <td>0.90</td>\n",
              "      <td>2.8</td>\n",
              "      <td>11.24</td>\n",
              "      <td>69.34</td>\n",
              "    </tr>\n",
              "    <tr>\n",
              "      <th>4</th>\n",
              "      <td>3182</td>\n",
              "      <td>RIVER ZUARI AT MARCAIM JETTY</td>\n",
              "      <td>GOA</td>\n",
              "      <td>29.500000</td>\n",
              "      <td>5.8</td>\n",
              "      <td>7.3</td>\n",
              "      <td>83.0</td>\n",
              "      <td>1.900000</td>\n",
              "      <td>0.400000</td>\n",
              "      <td>5500.0</td>\n",
              "      <td>...</td>\n",
              "      <td>100</td>\n",
              "      <td>80</td>\n",
              "      <td>100</td>\n",
              "      <td>16.5</td>\n",
              "      <td>22.48</td>\n",
              "      <td>23.40</td>\n",
              "      <td>0.72</td>\n",
              "      <td>2.8</td>\n",
              "      <td>11.24</td>\n",
              "      <td>77.14</td>\n",
              "    </tr>\n",
              "    <tr>\n",
              "      <th>...</th>\n",
              "      <td>...</td>\n",
              "      <td>...</td>\n",
              "      <td>...</td>\n",
              "      <td>...</td>\n",
              "      <td>...</td>\n",
              "      <td>...</td>\n",
              "      <td>...</td>\n",
              "      <td>...</td>\n",
              "      <td>...</td>\n",
              "      <td>...</td>\n",
              "      <td>...</td>\n",
              "      <td>...</td>\n",
              "      <td>...</td>\n",
              "      <td>...</td>\n",
              "      <td>...</td>\n",
              "      <td>...</td>\n",
              "      <td>...</td>\n",
              "      <td>...</td>\n",
              "      <td>...</td>\n",
              "      <td>...</td>\n",
              "      <td>...</td>\n",
              "    </tr>\n",
              "    <tr>\n",
              "      <th>1986</th>\n",
              "      <td>1330</td>\n",
              "      <td>TAMBIRAPARANI AT ARUMUGANERI, TAMILNADU</td>\n",
              "      <td>NAN</td>\n",
              "      <td>26.209814</td>\n",
              "      <td>7.9</td>\n",
              "      <td>738.0</td>\n",
              "      <td>7.2</td>\n",
              "      <td>2.700000</td>\n",
              "      <td>0.518000</td>\n",
              "      <td>202.0</td>\n",
              "      <td>...</td>\n",
              "      <td>100</td>\n",
              "      <td>100</td>\n",
              "      <td>100</td>\n",
              "      <td>0.0</td>\n",
              "      <td>28.10</td>\n",
              "      <td>23.40</td>\n",
              "      <td>0.90</td>\n",
              "      <td>2.8</td>\n",
              "      <td>16.86</td>\n",
              "      <td>72.06</td>\n",
              "    </tr>\n",
              "    <tr>\n",
              "      <th>1987</th>\n",
              "      <td>1450</td>\n",
              "      <td>PALAR AT VANIYAMBADI WATER SUPPLY HEAD WORK, T...</td>\n",
              "      <td>NAN</td>\n",
              "      <td>29.000000</td>\n",
              "      <td>7.5</td>\n",
              "      <td>585.0</td>\n",
              "      <td>6.3</td>\n",
              "      <td>2.600000</td>\n",
              "      <td>0.155000</td>\n",
              "      <td>315.0</td>\n",
              "      <td>...</td>\n",
              "      <td>100</td>\n",
              "      <td>100</td>\n",
              "      <td>100</td>\n",
              "      <td>0.0</td>\n",
              "      <td>28.10</td>\n",
              "      <td>23.40</td>\n",
              "      <td>0.90</td>\n",
              "      <td>2.8</td>\n",
              "      <td>16.86</td>\n",
              "      <td>72.06</td>\n",
              "    </tr>\n",
              "    <tr>\n",
              "      <th>1988</th>\n",
              "      <td>1403</td>\n",
              "      <td>GUMTI AT U/S SOUTH TRIPURA,TRIPURA</td>\n",
              "      <td>NAN</td>\n",
              "      <td>28.000000</td>\n",
              "      <td>7.6</td>\n",
              "      <td>98.0</td>\n",
              "      <td>6.2</td>\n",
              "      <td>1.200000</td>\n",
              "      <td>1.623079</td>\n",
              "      <td>570.0</td>\n",
              "      <td>...</td>\n",
              "      <td>100</td>\n",
              "      <td>100</td>\n",
              "      <td>100</td>\n",
              "      <td>0.0</td>\n",
              "      <td>28.10</td>\n",
              "      <td>23.40</td>\n",
              "      <td>0.90</td>\n",
              "      <td>2.8</td>\n",
              "      <td>11.24</td>\n",
              "      <td>66.44</td>\n",
              "    </tr>\n",
              "    <tr>\n",
              "      <th>1989</th>\n",
              "      <td>1404</td>\n",
              "      <td>GUMTI AT D/S SOUTH TRIPURA, TRIPURA</td>\n",
              "      <td>NAN</td>\n",
              "      <td>28.000000</td>\n",
              "      <td>7.7</td>\n",
              "      <td>91.0</td>\n",
              "      <td>6.5</td>\n",
              "      <td>1.300000</td>\n",
              "      <td>1.623079</td>\n",
              "      <td>562.0</td>\n",
              "      <td>...</td>\n",
              "      <td>100</td>\n",
              "      <td>100</td>\n",
              "      <td>100</td>\n",
              "      <td>0.0</td>\n",
              "      <td>28.10</td>\n",
              "      <td>23.40</td>\n",
              "      <td>0.90</td>\n",
              "      <td>2.8</td>\n",
              "      <td>11.24</td>\n",
              "      <td>66.44</td>\n",
              "    </tr>\n",
              "    <tr>\n",
              "      <th>1990</th>\n",
              "      <td>1726</td>\n",
              "      <td>CHANDRAPUR, AGARTALA D/S OF HAORA RIVER, TRIPURA</td>\n",
              "      <td>NAN</td>\n",
              "      <td>29.000000</td>\n",
              "      <td>7.6</td>\n",
              "      <td>110.0</td>\n",
              "      <td>5.7</td>\n",
              "      <td>1.100000</td>\n",
              "      <td>1.623079</td>\n",
              "      <td>546.0</td>\n",
              "      <td>...</td>\n",
              "      <td>100</td>\n",
              "      <td>100</td>\n",
              "      <td>100</td>\n",
              "      <td>0.0</td>\n",
              "      <td>28.10</td>\n",
              "      <td>23.40</td>\n",
              "      <td>0.90</td>\n",
              "      <td>2.8</td>\n",
              "      <td>11.24</td>\n",
              "      <td>66.44</td>\n",
              "    </tr>\n",
              "  </tbody>\n",
              "</table>\n",
              "<p>1991 rows × 24 columns</p>\n",
              "</div>\n",
              "      <button class=\"colab-df-convert\" onclick=\"convertToInteractive('df-a09f75a2-12ed-4d21-bb91-0d01ed20f726')\"\n",
              "              title=\"Convert this dataframe to an interactive table.\"\n",
              "              style=\"display:none;\">\n",
              "        \n",
              "  <svg xmlns=\"http://www.w3.org/2000/svg\" height=\"24px\"viewBox=\"0 0 24 24\"\n",
              "       width=\"24px\">\n",
              "    <path d=\"M0 0h24v24H0V0z\" fill=\"none\"/>\n",
              "    <path d=\"M18.56 5.44l.94 2.06.94-2.06 2.06-.94-2.06-.94-.94-2.06-.94 2.06-2.06.94zm-11 1L8.5 8.5l.94-2.06 2.06-.94-2.06-.94L8.5 2.5l-.94 2.06-2.06.94zm10 10l.94 2.06.94-2.06 2.06-.94-2.06-.94-.94-2.06-.94 2.06-2.06.94z\"/><path d=\"M17.41 7.96l-1.37-1.37c-.4-.4-.92-.59-1.43-.59-.52 0-1.04.2-1.43.59L10.3 9.45l-7.72 7.72c-.78.78-.78 2.05 0 2.83L4 21.41c.39.39.9.59 1.41.59.51 0 1.02-.2 1.41-.59l7.78-7.78 2.81-2.81c.8-.78.8-2.07 0-2.86zM5.41 20L4 18.59l7.72-7.72 1.47 1.35L5.41 20z\"/>\n",
              "  </svg>\n",
              "      </button>\n",
              "      \n",
              "  <style>\n",
              "    .colab-df-container {\n",
              "      display:flex;\n",
              "      flex-wrap:wrap;\n",
              "      gap: 12px;\n",
              "    }\n",
              "\n",
              "    .colab-df-convert {\n",
              "      background-color: #E8F0FE;\n",
              "      border: none;\n",
              "      border-radius: 50%;\n",
              "      cursor: pointer;\n",
              "      display: none;\n",
              "      fill: #1967D2;\n",
              "      height: 32px;\n",
              "      padding: 0 0 0 0;\n",
              "      width: 32px;\n",
              "    }\n",
              "\n",
              "    .colab-df-convert:hover {\n",
              "      background-color: #E2EBFA;\n",
              "      box-shadow: 0px 1px 2px rgba(60, 64, 67, 0.3), 0px 1px 3px 1px rgba(60, 64, 67, 0.15);\n",
              "      fill: #174EA6;\n",
              "    }\n",
              "\n",
              "    [theme=dark] .colab-df-convert {\n",
              "      background-color: #3B4455;\n",
              "      fill: #D2E3FC;\n",
              "    }\n",
              "\n",
              "    [theme=dark] .colab-df-convert:hover {\n",
              "      background-color: #434B5C;\n",
              "      box-shadow: 0px 1px 3px 1px rgba(0, 0, 0, 0.15);\n",
              "      filter: drop-shadow(0px 1px 2px rgba(0, 0, 0, 0.3));\n",
              "      fill: #FFFFFF;\n",
              "    }\n",
              "  </style>\n",
              "\n",
              "      <script>\n",
              "        const buttonEl =\n",
              "          document.querySelector('#df-a09f75a2-12ed-4d21-bb91-0d01ed20f726 button.colab-df-convert');\n",
              "        buttonEl.style.display =\n",
              "          google.colab.kernel.accessAllowed ? 'block' : 'none';\n",
              "\n",
              "        async function convertToInteractive(key) {\n",
              "          const element = document.querySelector('#df-a09f75a2-12ed-4d21-bb91-0d01ed20f726');\n",
              "          const dataTable =\n",
              "            await google.colab.kernel.invokeFunction('convertToInteractive',\n",
              "                                                     [key], {});\n",
              "          if (!dataTable) return;\n",
              "\n",
              "          const docLinkHtml = 'Like what you see? Visit the ' +\n",
              "            '<a target=\"_blank\" href=https://colab.research.google.com/notebooks/data_table.ipynb>data table notebook</a>'\n",
              "            + ' to learn more about interactive tables.';\n",
              "          element.innerHTML = '';\n",
              "          dataTable['output_type'] = 'display_data';\n",
              "          await google.colab.output.renderOutput(dataTable, element);\n",
              "          const docLink = document.createElement('div');\n",
              "          docLink.innerHTML = docLinkHtml;\n",
              "          element.appendChild(docLink);\n",
              "        }\n",
              "      </script>\n",
              "    </div>\n",
              "  </div>\n",
              "  "
            ]
          },
          "metadata": {},
          "execution_count": 28
        }
      ]
    },
    {
      "cell_type": "code",
      "source": [
        "average=data.groupby( 'year')['wqi'].mean()\n",
        "average.head()"
      ],
      "metadata": {
        "colab": {
          "base_uri": "https://localhost:8080/"
        },
        "id": "IkRUhtXHEJGB",
        "outputId": "3063e240-e161-4367-ef1a-22c1c4ea8f81"
      },
      "execution_count": null,
      "outputs": [
        {
          "output_type": "execute_result",
          "data": {
            "text/plain": [
              "year\n",
              "2003    66.239545\n",
              "2004    61.290000\n",
              "2005    73.762689\n",
              "2006    72.909714\n",
              "2007    74.233000\n",
              "Name: wqi, dtype: float64"
            ]
          },
          "metadata": {},
          "execution_count": 29
        }
      ]
    },
    {
      "cell_type": "markdown",
      "source": [
        "# DATA VISUALIZATION"
      ],
      "metadata": {
        "id": "BpyMuv5fE9gc"
      }
    },
    {
      "cell_type": "code",
      "source": [
        "sns.histplot(data[\"Temp\"])"
      ],
      "metadata": {
        "id": "Vl5Lv1cgFZux",
        "colab": {
          "base_uri": "https://localhost:8080/",
          "height": 297
        },
        "outputId": "f98df93c-6d02-4e39-8288-7820741d1884"
      },
      "execution_count": null,
      "outputs": [
        {
          "output_type": "execute_result",
          "data": {
            "text/plain": [
              "<matplotlib.axes._subplots.AxesSubplot at 0x7efcc86c77d0>"
            ]
          },
          "metadata": {},
          "execution_count": 30
        },
        {
          "output_type": "display_data",
          "data": {
            "text/plain": [
              "<Figure size 432x288 with 1 Axes>"
            ],
            "image/png": "[encoded data removed]"
          },
          "metadata": {
            "needs_background": "light"
          }
        }
      ]
    },
    {
      "cell_type": "code",
      "source": [
        "sns.boxplot(data[\"nco\"])"
      ],
      "metadata": {
        "id": "bY1yKnhAF0Ek",
        "colab": {
          "base_uri": "https://localhost:8080/",
          "height": 297
        },
        "outputId": "a8d67651-a77d-4e0a-c09f-72df3382c2f5"
      },
      "execution_count": null,
      "outputs": [
        {
          "output_type": "execute_result",
          "data": {
            "text/plain": [
              "<matplotlib.axes._subplots.AxesSubplot at 0x7efcc7bdfc90>"
            ]
          },
          "metadata": {},
          "execution_count": 31
        },
        {
          "output_type": "display_data",
          "data": {
            "text/plain": [
              "<Figure size 432x288 with 1 Axes>"
            ],
            "image/png": "[encoded data removed]"
          },
          "metadata": {
            "needs_background": "light"
          }
        }
      ]
    },
    {
      "cell_type": "code",
      "source": [
        "sns.countplot(data[\"ph\"])"
      ],
      "metadata": {
        "colab": {
          "base_uri": "https://localhost:8080/",
          "height": 297
        },
        "id": "D-OENeCbGsMU",
        "outputId": "eb534abe-b141-4830-893a-edb2f3126293"
      },
      "execution_count": null,
      "outputs": [
        {
          "output_type": "execute_result",
          "data": {
            "text/plain": [
              "<matplotlib.axes._subplots.AxesSubplot at 0x7efcc760e310>"
            ]
          },
          "metadata": {},
          "execution_count": 32
        },
        {
          "output_type": "display_data",
          "data": {
            "text/plain": [
              "<Figure size 432x288 with 1 Axes>"
            ],
            "image/png": "[encoded data removed]"
          },
          "metadata": {
            "needs_background": "light"
          }
        }
      ]
    },
    {
      "cell_type": "code",
      "source": [
        "sns.scatterplot(data.nco,data.bod)"
      ],
      "metadata": {
        "colab": {
          "base_uri": "https://localhost:8080/",
          "height": 297
        },
        "id": "4QqUK_CzHH4t",
        "outputId": "c8171491-e36e-46d6-eabf-64a4db763d6c"
      },
      "execution_count": null,
      "outputs": [
        {
          "output_type": "execute_result",
          "data": {
            "text/plain": [
              "<matplotlib.axes._subplots.AxesSubplot at 0x7efcc703ad90>"
            ]
          },
          "metadata": {},
          "execution_count": 33
        },
        {
          "output_type": "display_data",
          "data": {
            "text/plain": [
              "<Figure size 432x288 with 1 Axes>"
            ],
            "image/png": "[encoded data removed]"
          },
          "metadata": {
            "needs_background": "light"
          }
        }
      ]
    },
    {
      "cell_type": "code",
      "source": [
        "sns.barplot(data.nbdo,data.ph)"
      ],
      "metadata": {
        "colab": {
          "base_uri": "https://localhost:8080/",
          "height": 297
        },
        "id": "NdNOGagvHQa9",
        "outputId": "1d5144be-5a7d-4b92-9fc7-14225135b96e"
      },
      "execution_count": null,
      "outputs": [
        {
          "output_type": "execute_result",
          "data": {
            "text/plain": [
              "<matplotlib.axes._subplots.AxesSubplot at 0x7efcc74b2cd0>"
            ]
          },
          "metadata": {},
          "execution_count": 34
        },
        {
          "output_type": "display_data",
          "data": {
            "text/plain": [
              "<Figure size 432x288 with 1 Axes>"
            ],
            "image/png": "[encoded data removed]"
          },
          "metadata": {
            "needs_background": "light"
          }
        }
      ]
    },
    {
      "cell_type": "markdown",
      "source": [
        "# LABEL ENCODING"
      ],
      "metadata": {
        "id": "adZMOihhM8ix"
      }
    },
    {
      "cell_type": "code",
      "source": [
        "from sklearn.preprocessing import LabelEncoder"
      ],
      "metadata": {
        "id": "JQzmepYnMcNC"
      },
      "execution_count": null,
      "outputs": []
    },
    {
      "cell_type": "code",
      "source": [
        "le = LabelEncoder()\n",
        "data[\"state\"] = le.fit_transform(data[\"state\"])\n",
        "data[\"location\"] = le.fit_transform(data[\"location\"])\n",
        "data[\"station\"] = le.fit_transform(data[\"station\"])"
      ],
      "metadata": {
        "id": "2IFGjLlSMnPP"
      },
      "execution_count": null,
      "outputs": []
    },
    {
      "cell_type": "code",
      "source": [
        "data"
      ],
      "metadata": {
        "colab": {
          "base_uri": "https://localhost:8080/",
          "height": 487
        },
        "id": "L4l5xcMoM2lR",
        "outputId": "e109a70b-7f0b-4485-d1eb-a9e25771d453"
      },
      "execution_count": null,
      "outputs": [
        {
          "output_type": "execute_result",
          "data": {
            "text/plain": [
              "      station  location  state       Temp   do     ph     co       bod  \\\n",
              "0          32        83     21  30.600000  6.7    7.5  203.0  6.940049   \n",
              "1          33       664     51  29.800000  5.7    7.2  189.0  2.000000   \n",
              "2          56       665     51  29.500000  6.3    6.9  179.0  1.700000   \n",
              "3         260       495     51  29.700000  5.8    6.9   64.0  3.800000   \n",
              "4         261       496     51  29.500000  5.8    7.3   83.0  1.900000   \n",
              "...       ...       ...    ...        ...  ...    ...    ...       ...   \n",
              "1986       25       537    101  26.209814  7.9  738.0    7.2  2.700000   \n",
              "1987       48       345    101  29.000000  7.5  585.0    6.3  2.600000   \n",
              "1988       35       154    101  28.000000  7.6   98.0    6.2  1.200000   \n",
              "1989       36       151    101  28.000000  7.7   91.0    6.5  1.300000   \n",
              "1990       98        67    101  29.000000  7.6  110.0    5.7  1.100000   \n",
              "\n",
              "            na      tc  ...  nbdo  nec  nna   wph    wdo   wbdo   wec  wna  \\\n",
              "0     0.100000    27.0  ...    60   60  100  16.5  28.10  14.04  0.54  2.8   \n",
              "1     0.200000  8391.0  ...   100   60  100  16.5  22.48  23.40  0.54  2.8   \n",
              "2     0.100000  5330.0  ...   100   60  100  13.2  28.10  23.40  0.54  2.8   \n",
              "3     0.500000  8443.0  ...    80  100  100  13.2  22.48  18.72  0.90  2.8   \n",
              "4     0.400000  5500.0  ...   100   80  100  16.5  22.48  23.40  0.72  2.8   \n",
              "...        ...     ...  ...   ...  ...  ...   ...    ...    ...   ...  ...   \n",
              "1986  0.518000   202.0  ...   100  100  100   0.0  28.10  23.40  0.90  2.8   \n",
              "1987  0.155000   315.0  ...   100  100  100   0.0  28.10  23.40  0.90  2.8   \n",
              "1988  1.623079   570.0  ...   100  100  100   0.0  28.10  23.40  0.90  2.8   \n",
              "1989  1.623079   562.0  ...   100  100  100   0.0  28.10  23.40  0.90  2.8   \n",
              "1990  1.623079   546.0  ...   100  100  100   0.0  28.10  23.40  0.90  2.8   \n",
              "\n",
              "        wco    wqi  \n",
              "0     22.48  84.46  \n",
              "1     11.24  76.96  \n",
              "2     11.24  79.28  \n",
              "3     11.24  69.34  \n",
              "4     11.24  77.14  \n",
              "...     ...    ...  \n",
              "1986  16.86  72.06  \n",
              "1987  16.86  72.06  \n",
              "1988  11.24  66.44  \n",
              "1989  11.24  66.44  \n",
              "1990  11.24  66.44  \n",
              "\n",
              "[1991 rows x 24 columns]"
            ],
            "text/html": [
              "\n",
              "  <div id=\"df-1d27e3ac-4e1f-41fa-8761-4685318c236b\">\n",
              "    <div class=\"colab-df-container\">\n",
              "      <div>\n",
              "<style scoped>\n",
              "    .dataframe tbody tr th:only-of-type {\n",
              "        vertical-align: middle;\n",
              "    }\n",
              "\n",
              "    .dataframe tbody tr th {\n",
              "        vertical-align: top;\n",
              "    }\n",
              "\n",
              "    .dataframe thead th {\n",
              "        text-align: right;\n",
              "    }\n",
              "</style>\n",
              "<table border=\"1\" class=\"dataframe\">\n",
              "  <thead>\n",
              "    <tr style=\"text-align: right;\">\n",
              "      <th></th>\n",
              "      <th>station</th>\n",
              "      <th>location</th>\n",
              "      <th>state</th>\n",
              "      <th>Temp</th>\n",
              "      <th>do</th>\n",
              "      <th>ph</th>\n",
              "      <th>co</th>\n",
              "      <th>bod</th>\n",
              "      <th>na</th>\n",
              "      <th>tc</th>\n",
              "      <th>...</th>\n",
              "      <th>nbdo</th>\n",
              "      <th>nec</th>\n",
              "      <th>nna</th>\n",
              "      <th>wph</th>\n",
              "      <th>wdo</th>\n",
              "      <th>wbdo</th>\n",
              "      <th>wec</th>\n",
              "      <th>wna</th>\n",
              "      <th>wco</th>\n",
              "      <th>wqi</th>\n",
              "    </tr>\n",
              "  </thead>\n",
              "  <tbody>\n",
              "    <tr>\n",
              "      <th>0</th>\n",
              "      <td>32</td>\n",
              "      <td>83</td>\n",
              "      <td>21</td>\n",
              "      <td>30.600000</td>\n",
              "      <td>6.7</td>\n",
              "      <td>7.5</td>\n",
              "      <td>203.0</td>\n",
              "      <td>6.940049</td>\n",
              "      <td>0.100000</td>\n",
              "      <td>27.0</td>\n",
              "      <td>...</td>\n",
              "      <td>60</td>\n",
              "      <td>60</td>\n",
              "      <td>100</td>\n",
              "      <td>16.5</td>\n",
              "      <td>28.10</td>\n",
              "      <td>14.04</td>\n",
              "      <td>0.54</td>\n",
              "      <td>2.8</td>\n",
              "      <td>22.48</td>\n",
              "      <td>84.46</td>\n",
              "    </tr>\n",
              "    <tr>\n",
              "      <th>1</th>\n",
              "      <td>33</td>\n",
              "      <td>664</td>\n",
              "      <td>51</td>\n",
              "      <td>29.800000</td>\n",
              "      <td>5.7</td>\n",
              "      <td>7.2</td>\n",
              "      <td>189.0</td>\n",
              "      <td>2.000000</td>\n",
              "      <td>0.200000</td>\n",
              "      <td>8391.0</td>\n",
              "      <td>...</td>\n",
              "      <td>100</td>\n",
              "      <td>60</td>\n",
              "      <td>100</td>\n",
              "      <td>16.5</td>\n",
              "      <td>22.48</td>\n",
              "      <td>23.40</td>\n",
              "      <td>0.54</td>\n",
              "      <td>2.8</td>\n",
              "      <td>11.24</td>\n",
              "      <td>76.96</td>\n",
              "    </tr>\n",
              "    <tr>\n",
              "      <th>2</th>\n",
              "      <td>56</td>\n",
              "      <td>665</td>\n",
              "      <td>51</td>\n",
              "      <td>29.500000</td>\n",
              "      <td>6.3</td>\n",
              "      <td>6.9</td>\n",
              "      <td>179.0</td>\n",
              "      <td>1.700000</td>\n",
              "      <td>0.100000</td>\n",
              "      <td>5330.0</td>\n",
              "      <td>...</td>\n",
              "      <td>100</td>\n",
              "      <td>60</td>\n",
              "      <td>100</td>\n",
              "      <td>13.2</td>\n",
              "      <td>28.10</td>\n",
              "      <td>23.40</td>\n",
              "      <td>0.54</td>\n",
              "      <td>2.8</td>\n",
              "      <td>11.24</td>\n",
              "      <td>79.28</td>\n",
              "    </tr>\n",
              "    <tr>\n",
              "      <th>3</th>\n",
              "      <td>260</td>\n",
              "      <td>495</td>\n",
              "      <td>51</td>\n",
              "      <td>29.700000</td>\n",
              "      <td>5.8</td>\n",
              "      <td>6.9</td>\n",
              "      <td>64.0</td>\n",
              "      <td>3.800000</td>\n",
              "      <td>0.500000</td>\n",
              "      <td>8443.0</td>\n",
              "      <td>...</td>\n",
              "      <td>80</td>\n",
              "      <td>100</td>\n",
              "      <td>100</td>\n",
              "      <td>13.2</td>\n",
              "      <td>22.48</td>\n",
              "      <td>18.72</td>\n",
              "      <td>0.90</td>\n",
              "      <td>2.8</td>\n",
              "      <td>11.24</td>\n",
              "      <td>69.34</td>\n",
              "    </tr>\n",
              "    <tr>\n",
              "      <th>4</th>\n",
              "      <td>261</td>\n",
              "      <td>496</td>\n",
              "      <td>51</td>\n",
              "      <td>29.500000</td>\n",
              "      <td>5.8</td>\n",
              "      <td>7.3</td>\n",
              "      <td>83.0</td>\n",
              "      <td>1.900000</td>\n",
              "      <td>0.400000</td>\n",
              "      <td>5500.0</td>\n",
              "      <td>...</td>\n",
              "      <td>100</td>\n",
              "      <td>80</td>\n",
              "      <td>100</td>\n",
              "      <td>16.5</td>\n",
              "      <td>22.48</td>\n",
              "      <td>23.40</td>\n",
              "      <td>0.72</td>\n",
              "      <td>2.8</td>\n",
              "      <td>11.24</td>\n",
              "      <td>77.14</td>\n",
              "    </tr>\n",
              "    <tr>\n",
              "      <th>...</th>\n",
              "      <td>...</td>\n",
              "      <td>...</td>\n",
              "      <td>...</td>\n",
              "      <td>...</td>\n",
              "      <td>...</td>\n",
              "      <td>...</td>\n",
              "      <td>...</td>\n",
              "      <td>...</td>\n",
              "      <td>...</td>\n",
              "      <td>...</td>\n",
              "      <td>...</td>\n",
              "      <td>...</td>\n",
              "      <td>...</td>\n",
              "      <td>...</td>\n",
              "      <td>...</td>\n",
              "      <td>...</td>\n",
              "      <td>...</td>\n",
              "      <td>...</td>\n",
              "      <td>...</td>\n",
              "      <td>...</td>\n",
              "      <td>...</td>\n",
              "    </tr>\n",
              "    <tr>\n",
              "      <th>1986</th>\n",
              "      <td>25</td>\n",
              "      <td>537</td>\n",
              "      <td>101</td>\n",
              "      <td>26.209814</td>\n",
              "      <td>7.9</td>\n",
              "      <td>738.0</td>\n",
              "      <td>7.2</td>\n",
              "      <td>2.700000</td>\n",
              "      <td>0.518000</td>\n",
              "      <td>202.0</td>\n",
              "      <td>...</td>\n",
              "      <td>100</td>\n",
              "      <td>100</td>\n",
              "      <td>100</td>\n",
              "      <td>0.0</td>\n",
              "      <td>28.10</td>\n",
              "      <td>23.40</td>\n",
              "      <td>0.90</td>\n",
              "      <td>2.8</td>\n",
              "      <td>16.86</td>\n",
              "      <td>72.06</td>\n",
              "    </tr>\n",
              "    <tr>\n",
              "      <th>1987</th>\n",
              "      <td>48</td>\n",
              "      <td>345</td>\n",
              "      <td>101</td>\n",
              "      <td>29.000000</td>\n",
              "      <td>7.5</td>\n",
              "      <td>585.0</td>\n",
              "      <td>6.3</td>\n",
              "      <td>2.600000</td>\n",
              "      <td>0.155000</td>\n",
              "      <td>315.0</td>\n",
              "      <td>...</td>\n",
              "      <td>100</td>\n",
              "      <td>100</td>\n",
              "      <td>100</td>\n",
              "      <td>0.0</td>\n",
              "      <td>28.10</td>\n",
              "      <td>23.40</td>\n",
              "      <td>0.90</td>\n",
              "      <td>2.8</td>\n",
              "      <td>16.86</td>\n",
              "      <td>72.06</td>\n",
              "    </tr>\n",
              "    <tr>\n",
              "      <th>1988</th>\n",
              "      <td>35</td>\n",
              "      <td>154</td>\n",
              "      <td>101</td>\n",
              "      <td>28.000000</td>\n",
              "      <td>7.6</td>\n",
              "      <td>98.0</td>\n",
              "      <td>6.2</td>\n",
              "      <td>1.200000</td>\n",
              "      <td>1.623079</td>\n",
              "      <td>570.0</td>\n",
              "      <td>...</td>\n",
              "      <td>100</td>\n",
              "      <td>100</td>\n",
              "      <td>100</td>\n",
              "      <td>0.0</td>\n",
              "      <td>28.10</td>\n",
              "      <td>23.40</td>\n",
              "      <td>0.90</td>\n",
              "      <td>2.8</td>\n",
              "      <td>11.24</td>\n",
              "      <td>66.44</td>\n",
              "    </tr>\n",
              "    <tr>\n",
              "      <th>1989</th>\n",
              "      <td>36</td>\n",
              "      <td>151</td>\n",
              "      <td>101</td>\n",
              "      <td>28.000000</td>\n",
              "      <td>7.7</td>\n",
              "      <td>91.0</td>\n",
              "      <td>6.5</td>\n",
              "      <td>1.300000</td>\n",
              "      <td>1.623079</td>\n",
              "      <td>562.0</td>\n",
              "      <td>...</td>\n",
              "      <td>100</td>\n",
              "      <td>100</td>\n",
              "      <td>100</td>\n",
              "      <td>0.0</td>\n",
              "      <td>28.10</td>\n",
              "      <td>23.40</td>\n",
              "      <td>0.90</td>\n",
              "      <td>2.8</td>\n",
              "      <td>11.24</td>\n",
              "      <td>66.44</td>\n",
              "    </tr>\n",
              "    <tr>\n",
              "      <th>1990</th>\n",
              "      <td>98</td>\n",
              "      <td>67</td>\n",
              "      <td>101</td>\n",
              "      <td>29.000000</td>\n",
              "      <td>7.6</td>\n",
              "      <td>110.0</td>\n",
              "      <td>5.7</td>\n",
              "      <td>1.100000</td>\n",
              "      <td>1.623079</td>\n",
              "      <td>546.0</td>\n",
              "      <td>...</td>\n",
              "      <td>100</td>\n",
              "      <td>100</td>\n",
              "      <td>100</td>\n",
              "      <td>0.0</td>\n",
              "      <td>28.10</td>\n",
              "      <td>23.40</td>\n",
              "      <td>0.90</td>\n",
              "      <td>2.8</td>\n",
              "      <td>11.24</td>\n",
              "      <td>66.44</td>\n",
              "    </tr>\n",
              "  </tbody>\n",
              "</table>\n",
              "<p>1991 rows × 24 columns</p>\n",
              "</div>\n",
              "      <button class=\"colab-df-convert\" onclick=\"convertToInteractive('df-1d27e3ac-4e1f-41fa-8761-4685318c236b')\"\n",
              "              title=\"Convert this dataframe to an interactive table.\"\n",
              "              style=\"display:none;\">\n",
              "        \n",
              "  <svg xmlns=\"http://www.w3.org/2000/svg\" height=\"24px\"viewBox=\"0 0 24 24\"\n",
              "       width=\"24px\">\n",
              "    <path d=\"M0 0h24v24H0V0z\" fill=\"none\"/>\n",
              "    <path d=\"M18.56 5.44l.94 2.06.94-2.06 2.06-.94-2.06-.94-.94-2.06-.94 2.06-2.06.94zm-11 1L8.5 8.5l.94-2.06 2.06-.94-2.06-.94L8.5 2.5l-.94 2.06-2.06.94zm10 10l.94 2.06.94-2.06 2.06-.94-2.06-.94-.94-2.06-.94 2.06-2.06.94z\"/><path d=\"M17.41 7.96l-1.37-1.37c-.4-.4-.92-.59-1.43-.59-.52 0-1.04.2-1.43.59L10.3 9.45l-7.72 7.72c-.78.78-.78 2.05 0 2.83L4 21.41c.39.39.9.59 1.41.59.51 0 1.02-.2 1.41-.59l7.78-7.78 2.81-2.81c.8-.78.8-2.07 0-2.86zM5.41 20L4 18.59l7.72-7.72 1.47 1.35L5.41 20z\"/>\n",
              "  </svg>\n",
              "      </button>\n",
              "      \n",
              "  <style>\n",
              "    .colab-df-container {\n",
              "      display:flex;\n",
              "      flex-wrap:wrap;\n",
              "      gap: 12px;\n",
              "    }\n",
              "\n",
              "    .colab-df-convert {\n",
              "      background-color: #E8F0FE;\n",
              "      border: none;\n",
              "      border-radius: 50%;\n",
              "      cursor: pointer;\n",
              "      display: none;\n",
              "      fill: #1967D2;\n",
              "      height: 32px;\n",
              "      padding: 0 0 0 0;\n",
              "      width: 32px;\n",
              "    }\n",
              "\n",
              "    .colab-df-convert:hover {\n",
              "      background-color: #E2EBFA;\n",
              "      box-shadow: 0px 1px 2px rgba(60, 64, 67, 0.3), 0px 1px 3px 1px rgba(60, 64, 67, 0.15);\n",
              "      fill: #174EA6;\n",
              "    }\n",
              "\n",
              "    [theme=dark] .colab-df-convert {\n",
              "      background-color: #3B4455;\n",
              "      fill: #D2E3FC;\n",
              "    }\n",
              "\n",
              "    [theme=dark] .colab-df-convert:hover {\n",
              "      background-color: #434B5C;\n",
              "      box-shadow: 0px 1px 3px 1px rgba(0, 0, 0, 0.15);\n",
              "      filter: drop-shadow(0px 1px 2px rgba(0, 0, 0, 0.3));\n",
              "      fill: #FFFFFF;\n",
              "    }\n",
              "  </style>\n",
              "\n",
              "      <script>\n",
              "        const buttonEl =\n",
              "          document.querySelector('#df-1d27e3ac-4e1f-41fa-8761-4685318c236b button.colab-df-convert');\n",
              "        buttonEl.style.display =\n",
              "          google.colab.kernel.accessAllowed ? 'block' : 'none';\n",
              "\n",
              "        async function convertToInteractive(key) {\n",
              "          const element = document.querySelector('#df-1d27e3ac-4e1f-41fa-8761-4685318c236b');\n",
              "          const dataTable =\n",
              "            await google.colab.kernel.invokeFunction('convertToInteractive',\n",
              "                                                     [key], {});\n",
              "          if (!dataTable) return;\n",
              "\n",
              "          const docLinkHtml = 'Like what you see? Visit the ' +\n",
              "            '<a target=\"_blank\" href=https://colab.research.google.com/notebooks/data_table.ipynb>data table notebook</a>'\n",
              "            + ' to learn more about interactive tables.';\n",
              "          element.innerHTML = '';\n",
              "          dataTable['output_type'] = 'display_data';\n",
              "          await google.colab.output.renderOutput(dataTable, element);\n",
              "          const docLink = document.createElement('div');\n",
              "          docLink.innerHTML = docLinkHtml;\n",
              "          element.appendChild(docLink);\n",
              "        }\n",
              "      </script>\n",
              "    </div>\n",
              "  </div>\n",
              "  "
            ]
          },
          "metadata": {},
          "execution_count": 37
        }
      ]
    },
    {
      "cell_type": "markdown",
      "source": [
        "# SPLITTING DEPENDENT AND INDEPENDENT COLUMNS"
      ],
      "metadata": {
        "id": "8kTpJTUEH02C"
      }
    },
    {
      "cell_type": "code",
      "source": [
        "data.head()\n",
        "data.drop(['location','station','state'],axis =1,inplace=True)"
      ],
      "metadata": {
        "id": "PEi8EscqShBl"
      },
      "execution_count": null,
      "outputs": []
    },
    {
      "cell_type": "code",
      "source": [
        "data.head()"
      ],
      "metadata": {
        "colab": {
          "base_uri": "https://localhost:8080/",
          "height": 235
        },
        "id": "Utx-rjLmSjrA",
        "outputId": "d9a5bd38-487b-4e74-fcbc-364f54e86bc4"
      },
      "execution_count": null,
      "outputs": [
        {
          "output_type": "execute_result",
          "data": {
            "text/plain": [
              "   Temp   do   ph     co       bod   na      tc  year  npH  ndo  ...  nbdo  \\\n",
              "0  30.6  6.7  7.5  203.0  6.940049  0.1    27.0  2014  100  100  ...    60   \n",
              "1  29.8  5.7  7.2  189.0  2.000000  0.2  8391.0  2014  100   80  ...   100   \n",
              "2  29.5  6.3  6.9  179.0  1.700000  0.1  5330.0  2014   80  100  ...   100   \n",
              "3  29.7  5.8  6.9   64.0  3.800000  0.5  8443.0  2014   80   80  ...    80   \n",
              "4  29.5  5.8  7.3   83.0  1.900000  0.4  5500.0  2014  100   80  ...   100   \n",
              "\n",
              "   nec  nna   wph    wdo   wbdo   wec  wna    wco    wqi  \n",
              "0   60  100  16.5  28.10  14.04  0.54  2.8  22.48  84.46  \n",
              "1   60  100  16.5  22.48  23.40  0.54  2.8  11.24  76.96  \n",
              "2   60  100  13.2  28.10  23.40  0.54  2.8  11.24  79.28  \n",
              "3  100  100  13.2  22.48  18.72  0.90  2.8  11.24  69.34  \n",
              "4   80  100  16.5  22.48  23.40  0.72  2.8  11.24  77.14  \n",
              "\n",
              "[5 rows x 21 columns]"
            ],
            "text/html": [
              "\n",
              "  <div id=\"df-bfcb79e8-688c-4260-91a0-3e989f860e4a\">\n",
              "    <div class=\"colab-df-container\">\n",
              "      <div>\n",
              "<style scoped>\n",
              "    .dataframe tbody tr th:only-of-type {\n",
              "        vertical-align: middle;\n",
              "    }\n",
              "\n",
              "    .dataframe tbody tr th {\n",
              "        vertical-align: top;\n",
              "    }\n",
              "\n",
              "    .dataframe thead th {\n",
              "        text-align: right;\n",
              "    }\n",
              "</style>\n",
              "<table border=\"1\" class=\"dataframe\">\n",
              "  <thead>\n",
              "    <tr style=\"text-align: right;\">\n",
              "      <th></th>\n",
              "      <th>Temp</th>\n",
              "      <th>do</th>\n",
              "      <th>ph</th>\n",
              "      <th>co</th>\n",
              "      <th>bod</th>\n",
              "      <th>na</th>\n",
              "      <th>tc</th>\n",
              "      <th>year</th>\n",
              "      <th>npH</th>\n",
              "      <th>ndo</th>\n",
              "      <th>...</th>\n",
              "      <th>nbdo</th>\n",
              "      <th>nec</th>\n",
              "      <th>nna</th>\n",
              "      <th>wph</th>\n",
              "      <th>wdo</th>\n",
              "      <th>wbdo</th>\n",
              "      <th>wec</th>\n",
              "      <th>wna</th>\n",
              "      <th>wco</th>\n",
              "      <th>wqi</th>\n",
              "    </tr>\n",
              "  </thead>\n",
              "  <tbody>\n",
              "    <tr>\n",
              "      <th>0</th>\n",
              "      <td>30.6</td>\n",
              "      <td>6.7</td>\n",
              "      <td>7.5</td>\n",
              "      <td>203.0</td>\n",
              "      <td>6.940049</td>\n",
              "      <td>0.1</td>\n",
              "      <td>27.0</td>\n",
              "      <td>2014</td>\n",
              "      <td>100</td>\n",
              "      <td>100</td>\n",
              "      <td>...</td>\n",
              "      <td>60</td>\n",
              "      <td>60</td>\n",
              "      <td>100</td>\n",
              "      <td>16.5</td>\n",
              "      <td>28.10</td>\n",
              "      <td>14.04</td>\n",
              "      <td>0.54</td>\n",
              "      <td>2.8</td>\n",
              "      <td>22.48</td>\n",
              "      <td>84.46</td>\n",
              "    </tr>\n",
              "    <tr>\n",
              "      <th>1</th>\n",
              "      <td>29.8</td>\n",
              "      <td>5.7</td>\n",
              "      <td>7.2</td>\n",
              "      <td>189.0</td>\n",
              "      <td>2.000000</td>\n",
              "      <td>0.2</td>\n",
              "      <td>8391.0</td>\n",
              "      <td>2014</td>\n",
              "      <td>100</td>\n",
              "      <td>80</td>\n",
              "      <td>...</td>\n",
              "      <td>100</td>\n",
              "      <td>60</td>\n",
              "      <td>100</td>\n",
              "      <td>16.5</td>\n",
              "      <td>22.48</td>\n",
              "      <td>23.40</td>\n",
              "      <td>0.54</td>\n",
              "      <td>2.8</td>\n",
              "      <td>11.24</td>\n",
              "      <td>76.96</td>\n",
              "    </tr>\n",
              "    <tr>\n",
              "      <th>2</th>\n",
              "      <td>29.5</td>\n",
              "      <td>6.3</td>\n",
              "      <td>6.9</td>\n",
              "      <td>179.0</td>\n",
              "      <td>1.700000</td>\n",
              "      <td>0.1</td>\n",
              "      <td>5330.0</td>\n",
              "      <td>2014</td>\n",
              "      <td>80</td>\n",
              "      <td>100</td>\n",
              "      <td>...</td>\n",
              "      <td>100</td>\n",
              "      <td>60</td>\n",
              "      <td>100</td>\n",
              "      <td>13.2</td>\n",
              "      <td>28.10</td>\n",
              "      <td>23.40</td>\n",
              "      <td>0.54</td>\n",
              "      <td>2.8</td>\n",
              "      <td>11.24</td>\n",
              "      <td>79.28</td>\n",
              "    </tr>\n",
              "    <tr>\n",
              "      <th>3</th>\n",
              "      <td>29.7</td>\n",
              "      <td>5.8</td>\n",
              "      <td>6.9</td>\n",
              "      <td>64.0</td>\n",
              "      <td>3.800000</td>\n",
              "      <td>0.5</td>\n",
              "      <td>8443.0</td>\n",
              "      <td>2014</td>\n",
              "      <td>80</td>\n",
              "      <td>80</td>\n",
              "      <td>...</td>\n",
              "      <td>80</td>\n",
              "      <td>100</td>\n",
              "      <td>100</td>\n",
              "      <td>13.2</td>\n",
              "      <td>22.48</td>\n",
              "      <td>18.72</td>\n",
              "      <td>0.90</td>\n",
              "      <td>2.8</td>\n",
              "      <td>11.24</td>\n",
              "      <td>69.34</td>\n",
              "    </tr>\n",
              "    <tr>\n",
              "      <th>4</th>\n",
              "      <td>29.5</td>\n",
              "      <td>5.8</td>\n",
              "      <td>7.3</td>\n",
              "      <td>83.0</td>\n",
              "      <td>1.900000</td>\n",
              "      <td>0.4</td>\n",
              "      <td>5500.0</td>\n",
              "      <td>2014</td>\n",
              "      <td>100</td>\n",
              "      <td>80</td>\n",
              "      <td>...</td>\n",
              "      <td>100</td>\n",
              "      <td>80</td>\n",
              "      <td>100</td>\n",
              "      <td>16.5</td>\n",
              "      <td>22.48</td>\n",
              "      <td>23.40</td>\n",
              "      <td>0.72</td>\n",
              "      <td>2.8</td>\n",
              "      <td>11.24</td>\n",
              "      <td>77.14</td>\n",
              "    </tr>\n",
              "  </tbody>\n",
              "</table>\n",
              "<p>5 rows × 21 columns</p>\n",
              "</div>\n",
              "      <button class=\"colab-df-convert\" onclick=\"convertToInteractive('df-bfcb79e8-688c-4260-91a0-3e989f860e4a')\"\n",
              "              title=\"Convert this dataframe to an interactive table.\"\n",
              "              style=\"display:none;\">\n",
              "        \n",
              "  <svg xmlns=\"http://www.w3.org/2000/svg\" height=\"24px\"viewBox=\"0 0 24 24\"\n",
              "       width=\"24px\">\n",
              "    <path d=\"M0 0h24v24H0V0z\" fill=\"none\"/>\n",
              "    <path d=\"M18.56 5.44l.94 2.06.94-2.06 2.06-.94-2.06-.94-.94-2.06-.94 2.06-2.06.94zm-11 1L8.5 8.5l.94-2.06 2.06-.94-2.06-.94L8.5 2.5l-.94 2.06-2.06.94zm10 10l.94 2.06.94-2.06 2.06-.94-2.06-.94-.94-2.06-.94 2.06-2.06.94z\"/><path d=\"M17.41 7.96l-1.37-1.37c-.4-.4-.92-.59-1.43-.59-.52 0-1.04.2-1.43.59L10.3 9.45l-7.72 7.72c-.78.78-.78 2.05 0 2.83L4 21.41c.39.39.9.59 1.41.59.51 0 1.02-.2 1.41-.59l7.78-7.78 2.81-2.81c.8-.78.8-2.07 0-2.86zM5.41 20L4 18.59l7.72-7.72 1.47 1.35L5.41 20z\"/>\n",
              "  </svg>\n",
              "      </button>\n",
              "      \n",
              "  <style>\n",
              "    .colab-df-container {\n",
              "      display:flex;\n",
              "      flex-wrap:wrap;\n",
              "      gap: 12px;\n",
              "    }\n",
              "\n",
              "    .colab-df-convert {\n",
              "      background-color: #E8F0FE;\n",
              "      border: none;\n",
              "      border-radius: 50%;\n",
              "      cursor: pointer;\n",
              "      display: none;\n",
              "      fill: #1967D2;\n",
              "      height: 32px;\n",
              "      padding: 0 0 0 0;\n",
              "      width: 32px;\n",
              "    }\n",
              "\n",
              "    .colab-df-convert:hover {\n",
              "      background-color: #E2EBFA;\n",
              "      box-shadow: 0px 1px 2px rgba(60, 64, 67, 0.3), 0px 1px 3px 1px rgba(60, 64, 67, 0.15);\n",
              "      fill: #174EA6;\n",
              "    }\n",
              "\n",
              "    [theme=dark] .colab-df-convert {\n",
              "      background-color: #3B4455;\n",
              "      fill: #D2E3FC;\n",
              "    }\n",
              "\n",
              "    [theme=dark] .colab-df-convert:hover {\n",
              "      background-color: #434B5C;\n",
              "      box-shadow: 0px 1px 3px 1px rgba(0, 0, 0, 0.15);\n",
              "      filter: drop-shadow(0px 1px 2px rgba(0, 0, 0, 0.3));\n",
              "      fill: #FFFFFF;\n",
              "    }\n",
              "  </style>\n",
              "\n",
              "      <script>\n",
              "        const buttonEl =\n",
              "          document.querySelector('#df-bfcb79e8-688c-4260-91a0-3e989f860e4a button.colab-df-convert');\n",
              "        buttonEl.style.display =\n",
              "          google.colab.kernel.accessAllowed ? 'block' : 'none';\n",
              "\n",
              "        async function convertToInteractive(key) {\n",
              "          const element = document.querySelector('#df-bfcb79e8-688c-4260-91a0-3e989f860e4a');\n",
              "          const dataTable =\n",
              "            await google.colab.kernel.invokeFunction('convertToInteractive',\n",
              "                                                     [key], {});\n",
              "          if (!dataTable) return;\n",
              "\n",
              "          const docLinkHtml = 'Like what you see? Visit the ' +\n",
              "            '<a target=\"_blank\" href=https://colab.research.google.com/notebooks/data_table.ipynb>data table notebook</a>'\n",
              "            + ' to learn more about interactive tables.';\n",
              "          element.innerHTML = '';\n",
              "          dataTable['output_type'] = 'display_data';\n",
              "          await google.colab.output.renderOutput(dataTable, element);\n",
              "          const docLink = document.createElement('div');\n",
              "          docLink.innerHTML = docLinkHtml;\n",
              "          element.appendChild(docLink);\n",
              "        }\n",
              "      </script>\n",
              "    </div>\n",
              "  </div>\n",
              "  "
            ]
          },
          "metadata": {},
          "execution_count": 39
        }
      ]
    },
    {
      "cell_type": "code",
      "source": [
        "x = data.iloc[:,1:7].values\n",
        "x"
      ],
      "metadata": {
        "colab": {
          "base_uri": "https://localhost:8080/"
        },
        "id": "S8Hc1L-BHje5",
        "outputId": "d608f7c8-4b17-48e3-8cd5-883a3fa3d5ab"
      },
      "execution_count": null,
      "outputs": [
        {
          "output_type": "execute_result",
          "data": {
            "text/plain": [
              "array([[6.70000000e+00, 7.50000000e+00, 2.03000000e+02, 6.94004877e+00,\n",
              "        1.00000000e-01, 2.70000000e+01],\n",
              "       [5.70000000e+00, 7.20000000e+00, 1.89000000e+02, 2.00000000e+00,\n",
              "        2.00000000e-01, 8.39100000e+03],\n",
              "       [6.30000000e+00, 6.90000000e+00, 1.79000000e+02, 1.70000000e+00,\n",
              "        1.00000000e-01, 5.33000000e+03],\n",
              "       ...,\n",
              "       [7.60000000e+00, 9.80000000e+01, 6.20000000e+00, 1.20000000e+00,\n",
              "        1.62307871e+00, 5.70000000e+02],\n",
              "       [7.70000000e+00, 9.10000000e+01, 6.50000000e+00, 1.30000000e+00,\n",
              "        1.62307871e+00, 5.62000000e+02],\n",
              "       [7.60000000e+00, 1.10000000e+02, 5.70000000e+00, 1.10000000e+00,\n",
              "        1.62307871e+00, 5.46000000e+02]])"
            ]
          },
          "metadata": {},
          "execution_count": 40
        }
      ]
    },
    {
      "cell_type": "code",
      "source": [
        "x.shape"
      ],
      "metadata": {
        "colab": {
          "base_uri": "https://localhost:8080/"
        },
        "id": "BUWH4XGVIMO2",
        "outputId": "c38485ab-ea50-4870-f808-678f74556f23"
      },
      "execution_count": null,
      "outputs": [
        {
          "output_type": "execute_result",
          "data": {
            "text/plain": [
              "(1991, 6)"
            ]
          },
          "metadata": {},
          "execution_count": 41
        }
      ]
    },
    {
      "cell_type": "code",
      "source": [
        "y = data.iloc[:,-1:].values\n",
        "y"
      ],
      "metadata": {
        "colab": {
          "base_uri": "https://localhost:8080/"
        },
        "id": "WPBKI8XqI2cl",
        "outputId": "2f2d2828-bf7f-4753-91d9-51479d876b9c"
      },
      "execution_count": null,
      "outputs": [
        {
          "output_type": "execute_result",
          "data": {
            "text/plain": [
              "array([[84.46],\n",
              "       [76.96],\n",
              "       [79.28],\n",
              "       ...,\n",
              "       [66.44],\n",
              "       [66.44],\n",
              "       [66.44]])"
            ]
          },
          "metadata": {},
          "execution_count": 42
        }
      ]
    },
    {
      "cell_type": "code",
      "source": [
        "y.shape"
      ],
      "metadata": {
        "colab": {
          "base_uri": "https://localhost:8080/"
        },
        "id": "267bA5EoIZlw",
        "outputId": "92fbcdc2-009c-4482-c0e4-ecc82d560e37"
      },
      "execution_count": null,
      "outputs": [
        {
          "output_type": "execute_result",
          "data": {
            "text/plain": [
              "(1991, 1)"
            ]
          },
          "metadata": {},
          "execution_count": 43
        }
      ]
    },
    {
      "cell_type": "markdown",
      "source": [
        "# SPLITTING DATA INTO TRAIN AND TEST"
      ],
      "metadata": {
        "id": "OaPf5h49MDa0"
      }
    },
    {
      "cell_type": "code",
      "source": [
        "from sklearn .model_selection import train_test_split "
      ],
      "metadata": {
        "id": "XnHc5ILQIbOa"
      },
      "execution_count": null,
      "outputs": []
    },
    {
      "cell_type": "code",
      "source": [
        "X_train,X_test,Y_train,Y_test = train_test_split(x,y,test_size = 0.2, random_state = 10)"
      ],
      "metadata": {
        "id": "SE9mXeLcLasV"
      },
      "execution_count": null,
      "outputs": []
    }
  ]
}